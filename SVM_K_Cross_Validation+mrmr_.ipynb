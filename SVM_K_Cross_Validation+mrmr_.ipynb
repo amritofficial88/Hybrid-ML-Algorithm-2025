{
  "metadata": {
    "kernelspec": {
      "display_name": "Python 3",
      "name": "python3",
      "language": "python"
    },
    "language_info": {
      "name": "python",
      "pygments_lexer": "ipython3",
      "nbconvert_exporter": "python",
      "mimetype": "text/x-python",
      "file_extension": ".py",
      "codemirror_mode": {
        "version": 3,
        "name": "ipython"
      },
      "version": "3.6.3"
    },
    "colab": {
      "provenance": []
    },
    "accelerator": "GPU",
    "gpuClass": "standard"
  },
  "nbformat_minor": 0,
  "nbformat": 4,
  "cells": [
    {
      "cell_type": "code",
      "source": [
        "import numpy as np \n",
        "import pandas as pd "
      ],
      "metadata": {
        "_cell_guid": "170f0fb3-b5da-4a9b-870a-0365b4bc8f30",
        "_uuid": "a31348a5eba01332c755b5d244ff9d8a5f1d3ee7",
        "scrolled": true,
        "id": "fjrbwJyi7Jps"
      },
      "execution_count": null,
      "outputs": []
    },
    {
      "cell_type": "code",
      "source": [
        "from google.colab import files\n",
        "uploaded = files.upload()"
      ],
      "metadata": {
        "id": "QVZHCt0b4giz"
      },
      "execution_count": null,
      "outputs": []
    },
    {
      "cell_type": "code",
      "source": [
        "import io\n",
        "df = pd.read_csv(io.BytesIO(uploaded['colon - labled-1 C.csv']))"
      ],
      "metadata": {
        "id": "nEghRXyS4me8"
      },
      "execution_count": null,
      "outputs": []
    },
    {
      "cell_type": "code",
      "source": [
        "from sklearn.model_selection import train_test_split\n",
        "y = df.Class\n",
        "X = df.drop('Class', axis=1)\n",
        "X_train, X_test, y_train, y_test = train_test_split(X, y,test_size=0.2)\n",
        "print(\"\\nX_train:\\n\")\n",
        "print(X_train.head())\n",
        "print(X_train.shape)\n",
        "\n",
        "print(\"\\nX_test:\\n\")\n",
        "print(X_test.head())\n",
        "print(X_test.shape)"
      ],
      "metadata": {
        "id": "m_fvqxA1dW_f"
      },
      "execution_count": null,
      "outputs": []
    },
    {
      "cell_type": "code",
      "source": [
        "!pip install mrmr_selection\n",
        "from mrmr import mrmr_classif\n",
        "from sklearn.datasets import make_classification\n",
        "selected_features = mrmr_classif(X, y, K = 500)\n",
        "print(selected_features)"
      ],
      "metadata": {
        "id": "iECUl316bPvG"
      },
      "execution_count": null,
      "outputs": []
    },
    {
      "cell_type": "code",
      "source": [
        "import pandas as pd\n",
        "X_mrmr = X_train[selected_features]\n",
        "print(X_mrmr)\n",
        "print(X_mrmr.shape)"
      ],
      "metadata": {
        "id": "mmNHhAPCSn5w"
      },
      "execution_count": null,
      "outputs": []
    },
    {
      "cell_type": "code",
      "source": [
        "X_train = X_train.to_numpy()\n",
        "X_test = X_test.to_numpy()\n",
        "X_mrmr = X_mrmr.to_numpy()"
      ],
      "metadata": {
        "id": "q-YysNZElbiH"
      },
      "execution_count": null,
      "outputs": []
    },
    {
      "cell_type": "code",
      "source": [
        "trainX = X_train[:,1:].astype('float32')\n",
        "testX = X_test[:,1:].astype('float32')\n",
        "mrmrX = X_mrmr[:,1:].astype('float32')"
      ],
      "metadata": {
        "collapsed": true,
        "jupyter": {
          "outputs_hidden": true
        },
        "id": "fepRy7p_7Jpv"
      },
      "execution_count": null,
      "outputs": []
    },
    {
      "cell_type": "code",
      "source": [
        "from sklearn.preprocessing import MinMaxScaler\n",
        "scaler = MinMaxScaler()\n",
        "X_train = scaler.fit_transform(X_train)\n",
        "X_test = scaler.transform(X_test)\n",
        "X_mrmr = scaler.fit_transform(X_mrmr)"
      ],
      "metadata": {
        "id": "hedbnqr3reol"
      },
      "execution_count": null,
      "outputs": []
    },
    {
      "cell_type": "code",
      "source": [
        "from sklearn.svm import SVC\n",
        "from sklearn.model_selection import KFold\n",
        "\n",
        "kf = KFold(n_splits=10)\n",
        "\n",
        "svm = SVC()\n",
        "\n",
        "scores = []\n",
        "\n",
        "for i, (train_index, test_index) in enumerate(kf.split(X)):\n",
        "  X_train, X_test = X.iloc[train_index], X.iloc[test_index]\n",
        "  y_train, y_test = y.iloc[train_index], y.iloc[test_index]\n",
        "  \n",
        "  if i<9:\n",
        "    X_train, X_test = X.iloc[train_index], X.iloc[test_index]\n",
        "    y_train, y_test = y.iloc[train_index], y.iloc[test_index]\n",
        "    svm.fit(X_train, y_train)\n",
        "    y_pred = svm.predict(X_test)\n",
        "    score = svm.score(X_test, y_test)\n",
        "    scores.append(score)\n",
        "    print(\"Accuracy for iteration {}: {}\".format(i+1, score))\n",
        "\n",
        "  else :\n",
        "    X_mrmr, X_test = X.iloc[train_index], X.iloc[test_index]\n",
        "    y_train, y_test = y.iloc[train_index], y.iloc[test_index]\n",
        "    svm.fit(X_mrmr, y_train)\n",
        "    y_pred = svm.predict(X_test)\n",
        "    score = svm.score(X_test, y_test)\n",
        "    scores.append(score)\n",
        "    print(\"Accuracy for iteration {}: {}\".format(i+1, score))\n",
        "\n",
        "mean_score = np.mean(scores)\n",
        "print(\"Mean accuracy score: \", mean_score)"
      ],
      "metadata": {
        "colab": {
          "base_uri": "https://localhost:8080/"
        },
        "id": "_zME2Qm3jkhu",
        "outputId": "647b5764-7639-419e-d3d0-3264df734c82"
      },
      "execution_count": null,
      "outputs": [
        {
          "output_type": "stream",
          "name": "stdout",
          "text": [
            "Accuracy for iteration 1: 0.8571428571428571\n",
            "Accuracy for iteration 2: 0.7142857142857143\n",
            "Accuracy for iteration 3: 0.6666666666666666\n",
            "Accuracy for iteration 4: 0.8333333333333334\n",
            "Accuracy for iteration 5: 1.0\n",
            "Accuracy for iteration 6: 1.0\n",
            "Accuracy for iteration 7: 1.0\n",
            "Accuracy for iteration 8: 0.6666666666666666\n",
            "Accuracy for iteration 9: 0.5\n",
            "Accuracy for iteration 10: 1.0\n",
            "Mean accuracy score:  0.8238095238095238\n"
          ]
        }
      ]
    },
    {
      "cell_type": "code",
      "source": [
        "'''from sklearn.model_selection import cross_val_score\n",
        "from sklearn import svm\n",
        "\n",
        "svm_model = svm.SVC()\n",
        "\n",
        "k = 10\n",
        "for i in range(k):\n",
        "    if i < k-1:\n",
        "        scores = cross_val_score(svm_model, X, y, cv=k)\n",
        "    else:\n",
        "        scores = cross_val_score(svm_model, X_mrmr, X_train, cv=k)\n",
        "\n",
        "    print(\"Fold\", i+1, \"score:\", scores[i])\n",
        "\n",
        "print(\"Mean score:\", scores.mean())'''"
      ],
      "metadata": {
        "id": "qlRPdULwWWPB"
      },
      "execution_count": null,
      "outputs": []
    }
  ]
}