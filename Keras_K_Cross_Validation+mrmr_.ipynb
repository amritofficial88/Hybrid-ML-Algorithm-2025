{
  "metadata": {
    "kernelspec": {
      "display_name": "Python 3",
      "name": "python3",
      "language": "python"
    },
    "language_info": {
      "name": "python",
      "pygments_lexer": "ipython3",
      "nbconvert_exporter": "python",
      "mimetype": "text/x-python",
      "file_extension": ".py",
      "codemirror_mode": {
        "version": 3,
        "name": "ipython"
      },
      "version": "3.6.3"
    },
    "colab": {
      "provenance": []
    },
    "accelerator": "GPU",
    "gpuClass": "standard"
  },
  "nbformat_minor": 0,
  "nbformat": 4,
  "cells": [
    {
      "cell_type": "code",
      "source": [
        "import numpy as np \n",
        "import pandas as pd "
      ],
      "metadata": {
        "_cell_guid": "170f0fb3-b5da-4a9b-870a-0365b4bc8f30",
        "_uuid": "a31348a5eba01332c755b5d244ff9d8a5f1d3ee7",
        "scrolled": true,
        "id": "fjrbwJyi7Jps"
      },
      "execution_count": null,
      "outputs": []
    },
    {
      "cell_type": "code",
      "source": [
        "from google.colab import files\n",
        "uploaded = files.upload()"
      ],
      "metadata": {
        "colab": {
          "base_uri": "https://localhost:8080/",
          "height": 73
        },
        "id": "QVZHCt0b4giz",
        "outputId": "d34828e4-484b-4a29-acd3-2f4e3b69fdff"
      },
      "execution_count": null,
      "outputs": [
        {
          "output_type": "display_data",
          "data": {
            "text/plain": [
              "<IPython.core.display.HTML object>"
            ],
            "text/html": [
              "\n",
              "     <input type=\"file\" id=\"files-55ba8d36-7a8c-44d1-b7e2-88fdfc9e3036\" name=\"files[]\" multiple disabled\n",
              "        style=\"border:none\" />\n",
              "     <output id=\"result-55ba8d36-7a8c-44d1-b7e2-88fdfc9e3036\">\n",
              "      Upload widget is only available when the cell has been executed in the\n",
              "      current browser session. Please rerun this cell to enable.\n",
              "      </output>\n",
              "      <script>// Copyright 2017 Google LLC\n",
              "//\n",
              "// Licensed under the Apache License, Version 2.0 (the \"License\");\n",
              "// you may not use this file except in compliance with the License.\n",
              "// You may obtain a copy of the License at\n",
              "//\n",
              "//      http://www.apache.org/licenses/LICENSE-2.0\n",
              "//\n",
              "// Unless required by applicable law or agreed to in writing, software\n",
              "// distributed under the License is distributed on an \"AS IS\" BASIS,\n",
              "// WITHOUT WARRANTIES OR CONDITIONS OF ANY KIND, either express or implied.\n",
              "// See the License for the specific language governing permissions and\n",
              "// limitations under the License.\n",
              "\n",
              "/**\n",
              " * @fileoverview Helpers for google.colab Python module.\n",
              " */\n",
              "(function(scope) {\n",
              "function span(text, styleAttributes = {}) {\n",
              "  const element = document.createElement('span');\n",
              "  element.textContent = text;\n",
              "  for (const key of Object.keys(styleAttributes)) {\n",
              "    element.style[key] = styleAttributes[key];\n",
              "  }\n",
              "  return element;\n",
              "}\n",
              "\n",
              "// Max number of bytes which will be uploaded at a time.\n",
              "const MAX_PAYLOAD_SIZE = 100 * 1024;\n",
              "\n",
              "function _uploadFiles(inputId, outputId) {\n",
              "  const steps = uploadFilesStep(inputId, outputId);\n",
              "  const outputElement = document.getElementById(outputId);\n",
              "  // Cache steps on the outputElement to make it available for the next call\n",
              "  // to uploadFilesContinue from Python.\n",
              "  outputElement.steps = steps;\n",
              "\n",
              "  return _uploadFilesContinue(outputId);\n",
              "}\n",
              "\n",
              "// This is roughly an async generator (not supported in the browser yet),\n",
              "// where there are multiple asynchronous steps and the Python side is going\n",
              "// to poll for completion of each step.\n",
              "// This uses a Promise to block the python side on completion of each step,\n",
              "// then passes the result of the previous step as the input to the next step.\n",
              "function _uploadFilesContinue(outputId) {\n",
              "  const outputElement = document.getElementById(outputId);\n",
              "  const steps = outputElement.steps;\n",
              "\n",
              "  const next = steps.next(outputElement.lastPromiseValue);\n",
              "  return Promise.resolve(next.value.promise).then((value) => {\n",
              "    // Cache the last promise value to make it available to the next\n",
              "    // step of the generator.\n",
              "    outputElement.lastPromiseValue = value;\n",
              "    return next.value.response;\n",
              "  });\n",
              "}\n",
              "\n",
              "/**\n",
              " * Generator function which is called between each async step of the upload\n",
              " * process.\n",
              " * @param {string} inputId Element ID of the input file picker element.\n",
              " * @param {string} outputId Element ID of the output display.\n",
              " * @return {!Iterable<!Object>} Iterable of next steps.\n",
              " */\n",
              "function* uploadFilesStep(inputId, outputId) {\n",
              "  const inputElement = document.getElementById(inputId);\n",
              "  inputElement.disabled = false;\n",
              "\n",
              "  const outputElement = document.getElementById(outputId);\n",
              "  outputElement.innerHTML = '';\n",
              "\n",
              "  const pickedPromise = new Promise((resolve) => {\n",
              "    inputElement.addEventListener('change', (e) => {\n",
              "      resolve(e.target.files);\n",
              "    });\n",
              "  });\n",
              "\n",
              "  const cancel = document.createElement('button');\n",
              "  inputElement.parentElement.appendChild(cancel);\n",
              "  cancel.textContent = 'Cancel upload';\n",
              "  const cancelPromise = new Promise((resolve) => {\n",
              "    cancel.onclick = () => {\n",
              "      resolve(null);\n",
              "    };\n",
              "  });\n",
              "\n",
              "  // Wait for the user to pick the files.\n",
              "  const files = yield {\n",
              "    promise: Promise.race([pickedPromise, cancelPromise]),\n",
              "    response: {\n",
              "      action: 'starting',\n",
              "    }\n",
              "  };\n",
              "\n",
              "  cancel.remove();\n",
              "\n",
              "  // Disable the input element since further picks are not allowed.\n",
              "  inputElement.disabled = true;\n",
              "\n",
              "  if (!files) {\n",
              "    return {\n",
              "      response: {\n",
              "        action: 'complete',\n",
              "      }\n",
              "    };\n",
              "  }\n",
              "\n",
              "  for (const file of files) {\n",
              "    const li = document.createElement('li');\n",
              "    li.append(span(file.name, {fontWeight: 'bold'}));\n",
              "    li.append(span(\n",
              "        `(${file.type || 'n/a'}) - ${file.size} bytes, ` +\n",
              "        `last modified: ${\n",
              "            file.lastModifiedDate ? file.lastModifiedDate.toLocaleDateString() :\n",
              "                                    'n/a'} - `));\n",
              "    const percent = span('0% done');\n",
              "    li.appendChild(percent);\n",
              "\n",
              "    outputElement.appendChild(li);\n",
              "\n",
              "    const fileDataPromise = new Promise((resolve) => {\n",
              "      const reader = new FileReader();\n",
              "      reader.onload = (e) => {\n",
              "        resolve(e.target.result);\n",
              "      };\n",
              "      reader.readAsArrayBuffer(file);\n",
              "    });\n",
              "    // Wait for the data to be ready.\n",
              "    let fileData = yield {\n",
              "      promise: fileDataPromise,\n",
              "      response: {\n",
              "        action: 'continue',\n",
              "      }\n",
              "    };\n",
              "\n",
              "    // Use a chunked sending to avoid message size limits. See b/62115660.\n",
              "    let position = 0;\n",
              "    do {\n",
              "      const length = Math.min(fileData.byteLength - position, MAX_PAYLOAD_SIZE);\n",
              "      const chunk = new Uint8Array(fileData, position, length);\n",
              "      position += length;\n",
              "\n",
              "      const base64 = btoa(String.fromCharCode.apply(null, chunk));\n",
              "      yield {\n",
              "        response: {\n",
              "          action: 'append',\n",
              "          file: file.name,\n",
              "          data: base64,\n",
              "        },\n",
              "      };\n",
              "\n",
              "      let percentDone = fileData.byteLength === 0 ?\n",
              "          100 :\n",
              "          Math.round((position / fileData.byteLength) * 100);\n",
              "      percent.textContent = `${percentDone}% done`;\n",
              "\n",
              "    } while (position < fileData.byteLength);\n",
              "  }\n",
              "\n",
              "  // All done.\n",
              "  yield {\n",
              "    response: {\n",
              "      action: 'complete',\n",
              "    }\n",
              "  };\n",
              "}\n",
              "\n",
              "scope.google = scope.google || {};\n",
              "scope.google.colab = scope.google.colab || {};\n",
              "scope.google.colab._files = {\n",
              "  _uploadFiles,\n",
              "  _uploadFilesContinue,\n",
              "};\n",
              "})(self);\n",
              "</script> "
            ]
          },
          "metadata": {}
        },
        {
          "output_type": "stream",
          "name": "stdout",
          "text": [
            "Saving colon - labled-1 C.csv to colon - labled-1 C.csv\n"
          ]
        }
      ]
    },
    {
      "cell_type": "code",
      "source": [
        "import io\n",
        "df = pd.read_csv(io.BytesIO(uploaded['colon - labled-1 C.csv']))"
      ],
      "metadata": {
        "colab": {
          "base_uri": "https://localhost:8080/"
        },
        "id": "nEghRXyS4me8",
        "outputId": "a7baf3ba-0954-4c7f-ac11-e4ac515bfade"
      },
      "execution_count": null,
      "outputs": [
        {
          "output_type": "stream",
          "name": "stdout",
          "text": [
            "    Unnamed: 0     H55933     R39465    R39465_     R85482     U14973  \\\n",
            "0            1  8589.4160  5468.2407  4263.4077  4064.9358  1997.8930   \n",
            "1            2  9164.2540  6719.5293  4883.4487  3718.1590  2015.2214   \n",
            "2            3  3825.7050  6970.3613  5369.9688  4705.6500  1166.5536   \n",
            "3            4  6246.4487  7823.5340  5955.8350  3975.5642  2002.6132   \n",
            "4            5  3230.3286  3694.4500  3400.7400  3463.5857  2181.4202   \n",
            "..         ...        ...        ...        ...        ...        ...   \n",
            "57          58  4972.1660  4173.9180  3668.5337  1567.5554  1570.4406   \n",
            "58          59  9112.3720  6824.4863  5982.8460  3147.0430  4847.3080   \n",
            "59          60  6730.6250  3472.1250  2559.4624  2624.6892  1596.2179   \n",
            "60          61  6234.6226  4005.3000  3093.6750  3183.0857  1795.3107   \n",
            "61          62  7472.0100  3653.9340  2728.2163  3494.4805  2404.6655   \n",
            "\n",
            "        R02593     T51496     H80240     T65938  ...     R70790     L11706  \\\n",
            "0    5282.3250  2169.7200  2773.4211  7526.3860  ...   67.56125  259.91250   \n",
            "1    5569.9070  3849.0588  2793.3875  7017.7340  ...   92.23875   96.27625   \n",
            "2    1572.1678  1325.4025  1472.2587  3296.9512  ...   82.71500   31.10250   \n",
            "3    2130.5430  1531.1425  1714.6312  3869.7850  ...   41.68375    5.92500   \n",
            "4    2922.7820  2069.2463  2948.5750  3303.3710  ...   76.60375  161.35000   \n",
            "..         ...        ...        ...        ...  ...        ...        ...   \n",
            "57   3466.8108  2106.4988  1535.7574  1887.6212  ...    6.44750  156.44500   \n",
            "58  11222.6820  6333.4727  4299.5024  4644.4424  ...   35.87875  342.65000   \n",
            "59   4372.7890  3798.5261  1026.4775  3512.3337  ...  119.96250  111.60375   \n",
            "60   3940.8464  2019.8500  1406.6500  2927.7937  ...   85.25875  206.53625   \n",
            "61   5791.6070  2876.4211  2150.9587  3767.0024  ...   63.63500  437.65250   \n",
            "\n",
            "       T90549     D17390      M33210     H18490     H40891    R77780  \\\n",
            "0   138.89874   88.23250   39.667860   67.82875   75.67750  83.52250   \n",
            "1   150.59000   82.23750   85.033330  152.19500  186.56750  44.47250   \n",
            "2   193.92000   76.97250  224.620240   31.22500   42.65625  16.09250   \n",
            "3   183.00626   74.52875   67.710720   48.33875   42.52000  49.98250   \n",
            "4    61.70125   54.56375  223.359530   73.09875   57.59875   7.48875   \n",
            "..        ...        ...         ...        ...        ...       ...   \n",
            "57   93.95000   86.90875   95.442856   31.18750   57.15250  13.96000   \n",
            "58   84.75125   60.27375  143.877380    8.99625  106.87875  23.20250   \n",
            "59  166.75500  130.45500  124.253570   96.46500  133.52126  93.09875   \n",
            "60   80.44875  104.80500  180.941670   68.93375  118.20125  32.68750   \n",
            "61  178.27250  153.84875  269.436900   67.86250   77.21500  49.86250   \n",
            "\n",
            "      T49647  Class  \n",
            "0   28.70125      1  \n",
            "1   16.77375      0  \n",
            "2   15.15625      1  \n",
            "3   16.08500      0  \n",
            "4   31.81250      1  \n",
            "..       ...    ...  \n",
            "57  10.54750      1  \n",
            "58  32.16625      1  \n",
            "59   7.43250      0  \n",
            "60  23.26500      1  \n",
            "61  39.63125      0  \n",
            "\n",
            "[62 rows x 2002 columns]\n"
          ]
        }
      ]
    },
    {
      "cell_type": "code",
      "source": [
        "from sklearn.model_selection import train_test_split\n",
        "y = df.Class\n",
        "X = df.drop('Class', axis=1)\n",
        "X_train, X_test, y_train, y_test = train_test_split(X, y,test_size=0.2)\n",
        "'''print(\"\\nX_train:\\n\")\n",
        "print(X_train.head())\n",
        "print(X_train.shape)\n",
        "\n",
        "print(\"\\nX_test:\\n\")\n",
        "print(X_test.head())\n",
        "print(X_test.shape)'''"
      ],
      "metadata": {
        "colab": {
          "base_uri": "https://localhost:8080/"
        },
        "id": "m_fvqxA1dW_f",
        "outputId": "55d8929c-0df9-4967-ee41-c1a43beef926"
      },
      "execution_count": null,
      "outputs": [
        {
          "output_type": "stream",
          "name": "stdout",
          "text": [
            "\n",
            "X_train:\n",
            "\n",
            "    Unnamed: 0     H55933     R39465    R39465_     R85482     U14973  \\\n",
            "15          16  5627.2510  3619.5317  2606.5000  2544.4520  5967.0860   \n",
            "59          60  6730.6250  3472.1250  2559.4624  2624.6892  1596.2179   \n",
            "37          38  4201.5073  2425.6272  2228.8174  1503.6053  3804.5332   \n",
            "17          18  4865.2200  3237.7773  2341.0862  2372.6804  3058.2715   \n",
            "3            4  6246.4487  7823.5340  5955.8350  3975.5642  2002.6132   \n",
            "\n",
            "       R02593     T51496     H80240     T65938  ...      X67699     R70790  \\\n",
            "15  7736.4680  4633.8650  1356.4513  2982.8826  ...  149.623810   26.24000   \n",
            "59  4372.7890  3798.5261  1026.4775  3512.3337  ...  254.865480  119.96250   \n",
            "37  3591.2500  4028.5886  2794.0850  2683.0250  ...   49.663094  117.72250   \n",
            "17  1347.1321  1306.5725  3507.0450  3917.2660  ...   40.444050   32.40750   \n",
            "3   2130.5430  1531.1425  1714.6312  3869.7850  ...  152.595250   41.68375   \n",
            "\n",
            "       L11706     T90549     D17390      M33210    H18490     H40891  \\\n",
            "15  190.25874   68.48250   52.21750   12.063095   9.18750   18.01500   \n",
            "59  111.60375  166.75500  130.45500  124.253570  96.46500  133.52126   \n",
            "37  487.72750   43.51625   73.06625   64.540474  47.57750   46.59750   \n",
            "17   88.15500   15.69375   52.94250   26.890476  34.63375   33.04375   \n",
            "3     5.92500  183.00626   74.52875   67.710720  48.33875   42.52000   \n",
            "\n",
            "      R77780    T49647  \n",
            "15   8.44750  37.82250  \n",
            "59  93.09875   7.43250  \n",
            "37  13.27375  97.86750  \n",
            "17  36.89750  64.52125  \n",
            "3   49.98250  16.08500  \n",
            "\n",
            "[5 rows x 2001 columns]\n",
            "(49, 2001)\n",
            "\n",
            "X_test:\n",
            "\n",
            "    Unnamed: 0      H55933     R39465    R39465_     R85482     U14973  \\\n",
            "13          14   4985.2188  4735.7930  4075.1226  2845.2483  2973.2750   \n",
            "45          46  14368.2760  3651.9910  3302.9275  5738.4860  5115.9130   \n",
            "6            7   7126.5986  3779.0680  3705.5537  6594.5140  2460.9048   \n",
            "50          51   6870.3223  4751.7610  4102.3450  3182.0037  3193.6594   \n",
            "40          41   3799.0889  5665.7793  5157.0674  1359.7911  1872.6451   \n",
            "\n",
            "       R02593     T51496     H80240     T65938  ...      X67699     R70790  \\\n",
            "13  4219.4644  3556.8800  3234.2450  2824.7837  ...  128.992860   59.29000   \n",
            "45  4890.7856  5008.3286  5643.7812  6013.9510  ...  246.326190  185.83125   \n",
            "6   3775.6821  2621.4187  2047.2812  6411.2676  ...  147.804760   51.03250   \n",
            "50  7264.9927  3777.5024  2669.4326  4191.8900  ...  309.905940   35.18250   \n",
            "40  2218.1035  1395.0525  1683.7775  2430.0150  ...   66.182144    5.93500   \n",
            "\n",
            "       L11706     T90549     D17390     M33210     H18490     H40891  \\\n",
            "13   74.72375  108.72500   62.20000   25.99643   32.70250   33.49125   \n",
            "45  720.59375  154.14750  278.57500  303.00000  289.66626  333.59250   \n",
            "6    80.19000   76.48500   98.53750   54.62143   30.54000   52.96125   \n",
            "50  153.17375   66.53125  149.97750   65.96191   47.68500  101.89875   \n",
            "40  211.50874   81.31750   31.35125  129.35358   26.53500   34.91125   \n",
            "\n",
            "      R77780     T49647  \n",
            "13  38.72750   21.63125  \n",
            "45  97.04625  112.43250  \n",
            "6   37.23625   24.44500  \n",
            "50  64.73375   34.24875  \n",
            "40  34.39750    7.55375  \n",
            "\n",
            "[5 rows x 2001 columns]\n",
            "(13, 2001)\n"
          ]
        }
      ]
    },
    {
      "cell_type": "code",
      "source": [
        "!pip install mrmr_selection\n",
        "from mrmr import mrmr_classif\n",
        "from sklearn.datasets import make_classification\n",
        "selected_features = mrmr_classif(X, y, K = 500)\n",
        "print(selected_features)"
      ],
      "metadata": {
        "colab": {
          "base_uri": "https://localhost:8080/"
        },
        "id": "iECUl316bPvG",
        "outputId": "c17f1d12-8c77-481b-a226-b615ade46417"
      },
      "execution_count": null,
      "outputs": [
        {
          "output_type": "stream",
          "name": "stdout",
          "text": [
            "Looking in indexes: https://pypi.org/simple, https://us-python.pkg.dev/colab-wheels/public/simple/\n",
            "Collecting mrmr_selection\n",
            "  Downloading mrmr_selection-0.2.5-py3-none-any.whl (24 kB)\n",
            "Collecting category-encoders\n",
            "  Downloading category_encoders-2.5.1.post0-py2.py3-none-any.whl (72 kB)\n",
            "\u001b[2K     \u001b[90m━━━━━━━━━━━━━━━━━━━━━━━━━━━━━━━━━━━━━━━━\u001b[0m \u001b[32m72.4/72.4 KB\u001b[0m \u001b[31m11.6 MB/s\u001b[0m eta \u001b[36m0:00:00\u001b[0m\n",
            "\u001b[?25hRequirement already satisfied: pandas>=1.0.3 in /usr/local/lib/python3.8/dist-packages (from mrmr_selection) (1.3.5)\n",
            "Requirement already satisfied: scipy in /usr/local/lib/python3.8/dist-packages (from mrmr_selection) (1.7.3)\n",
            "Requirement already satisfied: numpy>=1.18.1 in /usr/local/lib/python3.8/dist-packages (from mrmr_selection) (1.21.6)\n",
            "Requirement already satisfied: joblib in /usr/local/lib/python3.8/dist-packages (from mrmr_selection) (1.2.0)\n",
            "Requirement already satisfied: tqdm in /usr/local/lib/python3.8/dist-packages (from mrmr_selection) (4.64.1)\n",
            "Collecting sklearn\n",
            "  Downloading sklearn-0.0.post1.tar.gz (3.6 kB)\n",
            "  Preparing metadata (setup.py) ... \u001b[?25l\u001b[?25hdone\n",
            "Requirement already satisfied: jinja2 in /usr/local/lib/python3.8/dist-packages (from mrmr_selection) (2.11.3)\n",
            "Requirement already satisfied: python-dateutil>=2.7.3 in /usr/local/lib/python3.8/dist-packages (from pandas>=1.0.3->mrmr_selection) (2.8.2)\n",
            "Requirement already satisfied: pytz>=2017.3 in /usr/local/lib/python3.8/dist-packages (from pandas>=1.0.3->mrmr_selection) (2022.7)\n",
            "Requirement already satisfied: scikit-learn>=0.20.0 in /usr/local/lib/python3.8/dist-packages (from category-encoders->mrmr_selection) (1.0.2)\n",
            "Requirement already satisfied: patsy>=0.5.1 in /usr/local/lib/python3.8/dist-packages (from category-encoders->mrmr_selection) (0.5.3)\n",
            "Requirement already satisfied: statsmodels>=0.9.0 in /usr/local/lib/python3.8/dist-packages (from category-encoders->mrmr_selection) (0.12.2)\n",
            "Requirement already satisfied: MarkupSafe>=0.23 in /usr/local/lib/python3.8/dist-packages (from jinja2->mrmr_selection) (2.0.1)\n",
            "Requirement already satisfied: six in /usr/local/lib/python3.8/dist-packages (from patsy>=0.5.1->category-encoders->mrmr_selection) (1.15.0)\n",
            "Requirement already satisfied: threadpoolctl>=2.0.0 in /usr/local/lib/python3.8/dist-packages (from scikit-learn>=0.20.0->category-encoders->mrmr_selection) (3.1.0)\n",
            "Building wheels for collected packages: sklearn\n",
            "  Building wheel for sklearn (setup.py) ... \u001b[?25l\u001b[?25hdone\n",
            "  Created wheel for sklearn: filename=sklearn-0.0.post1-py3-none-any.whl size=2344 sha256=e662cd72da301bfdfbb49e39b9f008e9e86d43e2cef9fd511c215eecbe8c3dd2\n",
            "  Stored in directory: /root/.cache/pip/wheels/14/25/f7/1cc0956978ae479e75140219088deb7a36f60459df242b1a72\n",
            "Successfully built sklearn\n",
            "Installing collected packages: sklearn, category-encoders, mrmr_selection\n",
            "Successfully installed category-encoders-2.5.1.post0 mrmr_selection-0.2.5 sklearn-0.0.post1\n"
          ]
        },
        {
          "output_type": "stream",
          "name": "stderr",
          "text": [
            "100%|██████████| 500/500 [04:03<00:00,  2.05it/s]"
          ]
        },
        {
          "output_type": "stream",
          "name": "stdout",
          "text": [
            "['M63391', 'D13641', 'J02854', 'M76378__', 'H55916', 'Z50753', 'H08393', 'R87126', 'M76378', 'T62947', 'M76378_', 'X63629', 'T71025', 'T92451', 'J05032', 'R84411', 'R80427', 'U25138', 'X12671', 'T47377', 'H43887', 'T56604', 'H64489', 'M26697', 'M82919', 'H40095', 'M36634', 'T57468', 'X86693', 'M22382', 'U09587', 'X12369', 'T95018', 'H23544', 'T60155', 'T57619', 'H06524', 'X55715', 'Z24727', 'R08183', 'M80815', 'X14958', 'R78934', 'D43950', 'H55758', 'U19969', 'H67764', 'X70326', 'T60778', 'U09564', 'L07648', 'X12466', 'T67077', 'T51261', 'H40560', 'M64110', 'L11706', 'R36977', 'R54097', 'H77597', 'H05803', 'L05144', 'T58861', 'T83368', 'R62549', 'R44301', 'M26383', 'T59878', 'U14631', 'T51023', 'T51529', 'X56597', 'R67358', 'D00860', 'R15447', 'U32519', 'T86473', 'U01038', 'T48804', 'M91463', 'T52185', 'Z49269_', 'T51571', 'X74295', 'U30825', 'X83301', 'D29808', 'U17899', 'R60877', 'U22055', 'X54942', 'Z49269', 'T90350', 'T61609', 'T61661_', 'T79152', 'D31716', 'T70062', 'H17434', 'M36981', 'T94350', 'R64115', 'X15880', 'H65355', 'R10066', 'D42047', 'M87789', 'T63370', 'M15841', 'D31885', 'H20426', 'X16356', 'X87159', 'L12723', 'U14971', 'U31525', 'U21090', 'M94203', 'T98555', 'H70425', 'H41129', 'D38551', 'T51534', 'M34344', 'X15882', 'R42501', 'H24030', 'L10284', 'D26129', 'U26312', 'T49732', 'M96839', 'T89666', 'X54941', 'D13315_', 'T51858', 'J00231', 'T62972', 'M96233', 'M58050', 'R44418', 'H40137', 'M34175__', 'T56940', 'H72234', 'T51493', 'R08021', 'T61661', 'T51539', 'R97912', 'R46753', 'Z48541', 'T96873', 'T86749', 'T95048', 'T72938', 'T57483', 'D16431', 'M83667', 'Z11502', 'R34698', 'M28128', 'U04953', 'M35531', 'T63133', 'H89087', 'U02493', 'Z25521', 'M26252', 'R48303', 'X06614', 'U05040', 'D21261', 'H11084', 'R42127', 'R75843', 'M28882', 'X75208', 'T50797', 'X15183', 'T47144', 'X68277', 'H40269', 'M18216', 'L08069', 'T90280', 'X53586', 'M94630', 'R99907', 'T72863', 'X74795', 'H78386', 'R81170', 'M69135', 'L28010', 'X68314', 'M19045', 'M92287', 'R41873', 'R44884', 'T40578', 'T40454', 'X60489', 'X06614_', 'T72175', 'R33367', 'D59253', 'X72727', 'T68848', 'T94993', 'Y00345', 'T50321', 'H01346', 'J04102', 'H87344', 'J04621', 'M16937', 'R42244', 'T67406', 'D25217', 'R44770', 'X74330', 'M88279', 'T41204', 'D63874', 'D14662', 'T71001', 'D00596', 'R34876', 'T47383', 'R16156', 'M94556', 'X68688', 'R88740', 'H25136', 'R11485', 'K03460', 'M86553', 'H20709', 'R50158', 'H17646', 'X89986', 'T55248', 'X12496', 'M37583', 'T57633', 'R37428', 'X55187', 'X07290', 'R93738', 'T54276', 'M92843', 'R01182', 'D29641', 'D14520', 'D00763', 'T72889', 'R65697', 'T69748', 'D15049', 'R23889', 'D00762', 'L06132', 'M64445', 'M31303', 'L38503', 'control4', 'control5', 'L19437', 'control6', 'U37012', 'control7', 'H65823', 'T56244', 'M34175_', 'T53549', 'X66839', 'M76558', 'X01060', 'T56690', 'R49565', 'M29065', 'U10324', 'H05899', 'T72879', 'U07664', 'M34175', 'T52015', 'H79136', 'H62828', 'L03840', 'R98842', 'H24401', 'R40717_', 'J03210', 'X55362', 'T48904', 'T63496', 'J04813', 'M84721', 'M86737', 'X87342', 'M26683', 'M28373', 'T65790', 'T63591', 'R96357', 'T84049', 'M22490', 'L09604', 'control8', 'X73902', 'X67155', 'R39465_', 'T69446', 'M94132', 'T47584', 'T57780', 'L24203', 'X13482', 'U31215', 'T60437', 'Y00264', 'X07767', 'M65028', 'R86975', 'M81637', 'D13627', 'R01124', 'T51558', 'H20819', 'U24166', 'R20554', 'R56401', 'X69141', 'control9', 'R80612', 'M14200', 'X62153', 'H87473', 'H61410', 'U28686', 'M85289', 'U21049', 'R54422', 'T57630', 'H20512', 'R28373', 'H22579_', 'T65003', 'R22197', 'T84481', 'R67999', 'control10', 'X65873', 'H65182', 'M83751', 'M35878', 'M93651', 'T53889', 'T52642', 'R54941', 'H16991', 'M65105', 'L38951', 'H81068', 'T70058', 'control11', 'R56399', 'X57351', 'U12255_', 'M23115', 'M86752', 'D14665', 'M23419_', 'H64807', 'U34074', 'M59040', 'X81817', 'T51849', 'M86400', 'R41866', 'R71585', 'D13315', 'X82103', 'T93094', 'U29092', 'U06698', 'R40717', 'H38185', 'D16294', 'X70944', 'T64012', 'T61602', 'L41559', 'J04794', 'M64231', 'R49416', 'R78927', 'Z17240', 'X16354', 'T50334_', 'L37936', 'X81372', 'D14663', 'R43914', 'T78104', 'X72018', 'T58645', 'X89985', 'T54364', 'T40645', 'H81558', 'R73660', 'R52081', 'T54341', 'T51613', 'T47645', 'J04026', 'T80178', 'T65938', 'Y00971', 'U07695_', 'R45529', 'D13665', 'R70030', 'T53694', 'R44052', 'T65758', 'T49423', 'M14200_', 'X51417', 'T47719', 'J00073', 'U10362', 'T94579', 'T65740', 'D16469', 'R21547', 'M88108', 'U07695__', 'M97676', 'T48102', 'T92259', 'X64229', 'J03569', 'D14812', 'L27476', 'H45977', 'H06245', 'H86060', 'M90516', 'T57780_', 'R27369', 'H72965', 'R49459', 'T57686', 'T60318', 'R39209', 'M22632', 'U26710', 'K02268', 'U07695', 'M81933', 'Z18948', 'M77698', 'H73908', 'U05291', 'M21339', 'D55673', 'R37464', 'H39654', 'T49941', 'U26401', 'T71574', 'M63239', 'H23098', 'D43947', 'D17400', 'T72503', 'T73092', 'U12255', 'L33930', 'U37673_', 'D00761', 'R67343', 'L13385', 'H87135', 'T53396_', 'T58731', 'Y00711', 'R59202', 'R43913', 'T62220', 'J03040', 'X69295', 'L05485', 'X73882', 'R59583', 'R62945']\n"
          ]
        },
        {
          "output_type": "stream",
          "name": "stderr",
          "text": [
            "\n"
          ]
        }
      ]
    },
    {
      "cell_type": "code",
      "source": [
        "X_train = X_train.to_numpy()\n",
        "X_test = X_test.to_numpy()"
      ],
      "metadata": {
        "id": "q-YysNZElbiH"
      },
      "execution_count": null,
      "outputs": []
    },
    {
      "cell_type": "code",
      "source": [
        "trainX = X_train[:,1:].reshape(X_train.shape[0],1,40, 50).astype('float32')\n",
        "X_train = trainX/255.0\n",
        "\n",
        "testX = X_test[:,1:].reshape(X_test.shape[0],1, 40, 50).astype('float32')\n",
        "X_test = testX/255.0"
      ],
      "metadata": {
        "collapsed": true,
        "jupyter": {
          "outputs_hidden": true
        },
        "id": "fepRy7p_7Jpv"
      },
      "execution_count": null,
      "outputs": []
    },
    {
      "cell_type": "code",
      "source": [
        "from sklearn import preprocessing\n",
        "lb = preprocessing.LabelBinarizer()\n",
        "y_train = lb.fit_transform(y_train)\n",
        "y_test = lb.fit_transform(y_test)"
      ],
      "metadata": {
        "_cell_guid": "04bd1d50-0dee-409d-938e-678bcfb5a944",
        "_uuid": "ba10ccfb03cf8b78ad5b0672cb1cba91d3afb8f1",
        "scrolled": true,
        "id": "vZzIJgkg7Jpv"
      },
      "execution_count": null,
      "outputs": []
    },
    {
      "cell_type": "code",
      "source": [
        "import keras\n",
        "from keras.models import Sequential\n",
        "from keras.layers import Conv2D,MaxPooling2D,Dense,Flatten,Dropout\n",
        "from keras.optimizers import Adam\n",
        "from keras.callbacks import TensorBoard\n",
        "import numpy as np\n",
        "from sklearn.model_selection import KFold\n",
        "kf = KFold(n_splits=10)\n",
        "import tensorflow as tf\n",
        "from keras import layers\n",
        "for i, (train_index, test_index) in enumerate(kf.split(X)):\n",
        "    if i == 10:\n",
        "        train_index = selected_features\n",
        "        test_index = test_index\n",
        "        num_classes = 10\n",
        "        epochs = 20\n",
        "        cnn_model = Sequential([\n",
        "            Conv2D(filters=32,kernel_size=3,activation='relu', input_shape=(1, 40, 50),data_format='channels_first'),\n",
        "            MaxPooling2D(pool_size=2) ,\n",
        "            Dropout(0.2),\n",
        "            Flatten(), \n",
        "            Dense(32,activation='relu'),\n",
        "            Dense(10,activation = 'softmax')\n",
        "        ])\n",
        "        \n",
        "        cnn_model.compile(optimizer='adam', loss='sparse_categorical_crossentropy', metrics=['accuracy'])\n",
        "        cnn_model.fit(X_train, y_train,epochs=10, verbose=0)   \n",
        "        _, accuracy = cnn_model.evaluate(X_test, y_test, return_dict=True)\n",
        "\n",
        "    else:\n",
        "        train_index,test_index = X,y\n",
        "        num_classes = 10\n",
        "        epochs = 20\n",
        "        cnn_model = Sequential([\n",
        "            Conv2D(filters=32,kernel_size=3,activation='relu', input_shape=(1, 40, 50),data_format='channels_first'),\n",
        "            MaxPooling2D(pool_size=2) ,\n",
        "            Dropout(0.2),\n",
        "            Flatten(), \n",
        "            Dense(32,activation='relu'),\n",
        "            Dense(10,activation = 'softmax')\n",
        "        ])\n",
        "        \n",
        "        cnn_model.compile(optimizer='adam', loss='sparse_categorical_crossentropy', metrics=['accuracy'])\n",
        "        cnn_model.fit(X_train, y_train,epochs=10, verbose=0)   \n",
        "        _, accuracy = cnn_model.evaluate(X_test, y_test, return_dict=True)"
      ],
      "metadata": {
        "colab": {
          "base_uri": "https://localhost:8080/"
        },
        "id": "s9A0FqFbkQ3u",
        "outputId": "55199177-349b-42d6-9d0f-d5c7726b6401"
      },
      "execution_count": null,
      "outputs": [
        {
          "output_type": "stream",
          "name": "stdout",
          "text": [
            "1/1 [==============================] - 0s 105ms/step - loss: 0.3764 - accuracy: 0.9231\n",
            "1/1 [==============================] - 0s 112ms/step - loss: 0.2519 - accuracy: 0.9231\n",
            "1/1 [==============================] - 0s 112ms/step - loss: 0.3156 - accuracy: 0.9231\n"
          ]
        },
        {
          "output_type": "stream",
          "name": "stderr",
          "text": [
            "WARNING:tensorflow:5 out of the last 5 calls to <function Model.make_test_function.<locals>.test_function at 0x7f8b0c52df70> triggered tf.function retracing. Tracing is expensive and the excessive number of tracings could be due to (1) creating @tf.function repeatedly in a loop, (2) passing tensors with different shapes, (3) passing Python objects instead of tensors. For (1), please define your @tf.function outside of the loop. For (2), @tf.function has reduce_retracing=True option that can avoid unnecessary retracing. For (3), please refer to https://www.tensorflow.org/guide/function#controlling_retracing and https://www.tensorflow.org/api_docs/python/tf/function for  more details.\n"
          ]
        },
        {
          "output_type": "stream",
          "name": "stdout",
          "text": [
            "1/1 [==============================] - 0s 120ms/step - loss: 0.5166 - accuracy: 0.8462\n"
          ]
        },
        {
          "output_type": "stream",
          "name": "stderr",
          "text": [
            "WARNING:tensorflow:6 out of the last 6 calls to <function Model.make_test_function.<locals>.test_function at 0x7f8b0c39dca0> triggered tf.function retracing. Tracing is expensive and the excessive number of tracings could be due to (1) creating @tf.function repeatedly in a loop, (2) passing tensors with different shapes, (3) passing Python objects instead of tensors. For (1), please define your @tf.function outside of the loop. For (2), @tf.function has reduce_retracing=True option that can avoid unnecessary retracing. For (3), please refer to https://www.tensorflow.org/guide/function#controlling_retracing and https://www.tensorflow.org/api_docs/python/tf/function for  more details.\n"
          ]
        },
        {
          "output_type": "stream",
          "name": "stdout",
          "text": [
            "1/1 [==============================] - 0s 126ms/step - loss: 0.5791 - accuracy: 0.7692\n",
            "1/1 [==============================] - 0s 107ms/step - loss: 0.3200 - accuracy: 0.8462\n",
            "1/1 [==============================] - 0s 112ms/step - loss: 0.2687 - accuracy: 0.9231\n",
            "1/1 [==============================] - 0s 110ms/step - loss: 0.8071 - accuracy: 0.5385\n",
            "1/1 [==============================] - 0s 118ms/step - loss: 0.1752 - accuracy: 0.9231\n",
            "1/1 [==============================] - 0s 112ms/step - loss: 0.6767 - accuracy: 0.5385\n"
          ]
        }
      ]
    }
  ]
}