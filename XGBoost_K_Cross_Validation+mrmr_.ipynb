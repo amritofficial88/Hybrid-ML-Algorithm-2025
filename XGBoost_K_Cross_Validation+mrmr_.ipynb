{
  "metadata": {
    "kernelspec": {
      "display_name": "Python 3",
      "name": "python3",
      "language": "python"
    },
    "language_info": {
      "name": "python",
      "pygments_lexer": "ipython3",
      "nbconvert_exporter": "python",
      "mimetype": "text/x-python",
      "file_extension": ".py",
      "codemirror_mode": {
        "version": 3,
        "name": "ipython"
      },
      "version": "3.6.3"
    },
    "colab": {
      "provenance": []
    },
    "accelerator": "GPU",
    "gpuClass": "standard"
  },
  "nbformat_minor": 0,
  "nbformat": 4,
  "cells": [
    {
      "cell_type": "code",
      "source": [
        "import numpy as np \n",
        "import pandas as pd "
      ],
      "metadata": {
        "_cell_guid": "170f0fb3-b5da-4a9b-870a-0365b4bc8f30",
        "_uuid": "a31348a5eba01332c755b5d244ff9d8a5f1d3ee7",
        "scrolled": true,
        "id": "fjrbwJyi7Jps"
      },
      "execution_count": null,
      "outputs": []
    },
    {
      "cell_type": "code",
      "source": [
        "from google.colab import files\n",
        "uploaded = files.upload()"
      ],
      "metadata": {
        "colab": {
          "base_uri": "https://localhost:8080/",
          "height": 73
        },
        "id": "QVZHCt0b4giz",
        "outputId": "e33ecc91-ca42-4a42-8718-77c7807f3920"
      },
      "execution_count": null,
      "outputs": [
        {
          "output_type": "display_data",
          "data": {
            "text/plain": [
              "<IPython.core.display.HTML object>"
            ],
            "text/html": [
              "\n",
              "     <input type=\"file\" id=\"files-a43470fb-f5f2-41e6-947d-9f14144a63d5\" name=\"files[]\" multiple disabled\n",
              "        style=\"border:none\" />\n",
              "     <output id=\"result-a43470fb-f5f2-41e6-947d-9f14144a63d5\">\n",
              "      Upload widget is only available when the cell has been executed in the\n",
              "      current browser session. Please rerun this cell to enable.\n",
              "      </output>\n",
              "      <script>// Copyright 2017 Google LLC\n",
              "//\n",
              "// Licensed under the Apache License, Version 2.0 (the \"License\");\n",
              "// you may not use this file except in compliance with the License.\n",
              "// You may obtain a copy of the License at\n",
              "//\n",
              "//      http://www.apache.org/licenses/LICENSE-2.0\n",
              "//\n",
              "// Unless required by applicable law or agreed to in writing, software\n",
              "// distributed under the License is distributed on an \"AS IS\" BASIS,\n",
              "// WITHOUT WARRANTIES OR CONDITIONS OF ANY KIND, either express or implied.\n",
              "// See the License for the specific language governing permissions and\n",
              "// limitations under the License.\n",
              "\n",
              "/**\n",
              " * @fileoverview Helpers for google.colab Python module.\n",
              " */\n",
              "(function(scope) {\n",
              "function span(text, styleAttributes = {}) {\n",
              "  const element = document.createElement('span');\n",
              "  element.textContent = text;\n",
              "  for (const key of Object.keys(styleAttributes)) {\n",
              "    element.style[key] = styleAttributes[key];\n",
              "  }\n",
              "  return element;\n",
              "}\n",
              "\n",
              "// Max number of bytes which will be uploaded at a time.\n",
              "const MAX_PAYLOAD_SIZE = 100 * 1024;\n",
              "\n",
              "function _uploadFiles(inputId, outputId) {\n",
              "  const steps = uploadFilesStep(inputId, outputId);\n",
              "  const outputElement = document.getElementById(outputId);\n",
              "  // Cache steps on the outputElement to make it available for the next call\n",
              "  // to uploadFilesContinue from Python.\n",
              "  outputElement.steps = steps;\n",
              "\n",
              "  return _uploadFilesContinue(outputId);\n",
              "}\n",
              "\n",
              "// This is roughly an async generator (not supported in the browser yet),\n",
              "// where there are multiple asynchronous steps and the Python side is going\n",
              "// to poll for completion of each step.\n",
              "// This uses a Promise to block the python side on completion of each step,\n",
              "// then passes the result of the previous step as the input to the next step.\n",
              "function _uploadFilesContinue(outputId) {\n",
              "  const outputElement = document.getElementById(outputId);\n",
              "  const steps = outputElement.steps;\n",
              "\n",
              "  const next = steps.next(outputElement.lastPromiseValue);\n",
              "  return Promise.resolve(next.value.promise).then((value) => {\n",
              "    // Cache the last promise value to make it available to the next\n",
              "    // step of the generator.\n",
              "    outputElement.lastPromiseValue = value;\n",
              "    return next.value.response;\n",
              "  });\n",
              "}\n",
              "\n",
              "/**\n",
              " * Generator function which is called between each async step of the upload\n",
              " * process.\n",
              " * @param {string} inputId Element ID of the input file picker element.\n",
              " * @param {string} outputId Element ID of the output display.\n",
              " * @return {!Iterable<!Object>} Iterable of next steps.\n",
              " */\n",
              "function* uploadFilesStep(inputId, outputId) {\n",
              "  const inputElement = document.getElementById(inputId);\n",
              "  inputElement.disabled = false;\n",
              "\n",
              "  const outputElement = document.getElementById(outputId);\n",
              "  outputElement.innerHTML = '';\n",
              "\n",
              "  const pickedPromise = new Promise((resolve) => {\n",
              "    inputElement.addEventListener('change', (e) => {\n",
              "      resolve(e.target.files);\n",
              "    });\n",
              "  });\n",
              "\n",
              "  const cancel = document.createElement('button');\n",
              "  inputElement.parentElement.appendChild(cancel);\n",
              "  cancel.textContent = 'Cancel upload';\n",
              "  const cancelPromise = new Promise((resolve) => {\n",
              "    cancel.onclick = () => {\n",
              "      resolve(null);\n",
              "    };\n",
              "  });\n",
              "\n",
              "  // Wait for the user to pick the files.\n",
              "  const files = yield {\n",
              "    promise: Promise.race([pickedPromise, cancelPromise]),\n",
              "    response: {\n",
              "      action: 'starting',\n",
              "    }\n",
              "  };\n",
              "\n",
              "  cancel.remove();\n",
              "\n",
              "  // Disable the input element since further picks are not allowed.\n",
              "  inputElement.disabled = true;\n",
              "\n",
              "  if (!files) {\n",
              "    return {\n",
              "      response: {\n",
              "        action: 'complete',\n",
              "      }\n",
              "    };\n",
              "  }\n",
              "\n",
              "  for (const file of files) {\n",
              "    const li = document.createElement('li');\n",
              "    li.append(span(file.name, {fontWeight: 'bold'}));\n",
              "    li.append(span(\n",
              "        `(${file.type || 'n/a'}) - ${file.size} bytes, ` +\n",
              "        `last modified: ${\n",
              "            file.lastModifiedDate ? file.lastModifiedDate.toLocaleDateString() :\n",
              "                                    'n/a'} - `));\n",
              "    const percent = span('0% done');\n",
              "    li.appendChild(percent);\n",
              "\n",
              "    outputElement.appendChild(li);\n",
              "\n",
              "    const fileDataPromise = new Promise((resolve) => {\n",
              "      const reader = new FileReader();\n",
              "      reader.onload = (e) => {\n",
              "        resolve(e.target.result);\n",
              "      };\n",
              "      reader.readAsArrayBuffer(file);\n",
              "    });\n",
              "    // Wait for the data to be ready.\n",
              "    let fileData = yield {\n",
              "      promise: fileDataPromise,\n",
              "      response: {\n",
              "        action: 'continue',\n",
              "      }\n",
              "    };\n",
              "\n",
              "    // Use a chunked sending to avoid message size limits. See b/62115660.\n",
              "    let position = 0;\n",
              "    do {\n",
              "      const length = Math.min(fileData.byteLength - position, MAX_PAYLOAD_SIZE);\n",
              "      const chunk = new Uint8Array(fileData, position, length);\n",
              "      position += length;\n",
              "\n",
              "      const base64 = btoa(String.fromCharCode.apply(null, chunk));\n",
              "      yield {\n",
              "        response: {\n",
              "          action: 'append',\n",
              "          file: file.name,\n",
              "          data: base64,\n",
              "        },\n",
              "      };\n",
              "\n",
              "      let percentDone = fileData.byteLength === 0 ?\n",
              "          100 :\n",
              "          Math.round((position / fileData.byteLength) * 100);\n",
              "      percent.textContent = `${percentDone}% done`;\n",
              "\n",
              "    } while (position < fileData.byteLength);\n",
              "  }\n",
              "\n",
              "  // All done.\n",
              "  yield {\n",
              "    response: {\n",
              "      action: 'complete',\n",
              "    }\n",
              "  };\n",
              "}\n",
              "\n",
              "scope.google = scope.google || {};\n",
              "scope.google.colab = scope.google.colab || {};\n",
              "scope.google.colab._files = {\n",
              "  _uploadFiles,\n",
              "  _uploadFilesContinue,\n",
              "};\n",
              "})(self);\n",
              "</script> "
            ]
          },
          "metadata": {}
        },
        {
          "output_type": "stream",
          "name": "stdout",
          "text": [
            "Saving colon - labled-1 C.csv to colon - labled-1 C.csv\n"
          ]
        }
      ]
    },
    {
      "cell_type": "code",
      "source": [
        "import io\n",
        "df = pd.read_csv(io.BytesIO(uploaded['colon - labled-1 C.csv']))\n",
        "print(df)"
      ],
      "metadata": {
        "colab": {
          "base_uri": "https://localhost:8080/"
        },
        "id": "nEghRXyS4me8",
        "outputId": "5cbb61cc-174f-43d0-b795-e4be1198a9ec"
      },
      "execution_count": null,
      "outputs": [
        {
          "output_type": "stream",
          "name": "stdout",
          "text": [
            "    Unnamed: 0     H55933     R39465    R39465_     R85482     U14973  \\\n",
            "0            1  8589.4160  5468.2407  4263.4077  4064.9358  1997.8930   \n",
            "1            2  9164.2540  6719.5293  4883.4487  3718.1590  2015.2214   \n",
            "2            3  3825.7050  6970.3613  5369.9688  4705.6500  1166.5536   \n",
            "3            4  6246.4487  7823.5340  5955.8350  3975.5642  2002.6132   \n",
            "4            5  3230.3286  3694.4500  3400.7400  3463.5857  2181.4202   \n",
            "..         ...        ...        ...        ...        ...        ...   \n",
            "57          58  4972.1660  4173.9180  3668.5337  1567.5554  1570.4406   \n",
            "58          59  9112.3720  6824.4863  5982.8460  3147.0430  4847.3080   \n",
            "59          60  6730.6250  3472.1250  2559.4624  2624.6892  1596.2179   \n",
            "60          61  6234.6226  4005.3000  3093.6750  3183.0857  1795.3107   \n",
            "61          62  7472.0100  3653.9340  2728.2163  3494.4805  2404.6655   \n",
            "\n",
            "        R02593     T51496     H80240     T65938  ...     R70790     L11706  \\\n",
            "0    5282.3250  2169.7200  2773.4211  7526.3860  ...   67.56125  259.91250   \n",
            "1    5569.9070  3849.0588  2793.3875  7017.7340  ...   92.23875   96.27625   \n",
            "2    1572.1678  1325.4025  1472.2587  3296.9512  ...   82.71500   31.10250   \n",
            "3    2130.5430  1531.1425  1714.6312  3869.7850  ...   41.68375    5.92500   \n",
            "4    2922.7820  2069.2463  2948.5750  3303.3710  ...   76.60375  161.35000   \n",
            "..         ...        ...        ...        ...  ...        ...        ...   \n",
            "57   3466.8108  2106.4988  1535.7574  1887.6212  ...    6.44750  156.44500   \n",
            "58  11222.6820  6333.4727  4299.5024  4644.4424  ...   35.87875  342.65000   \n",
            "59   4372.7890  3798.5261  1026.4775  3512.3337  ...  119.96250  111.60375   \n",
            "60   3940.8464  2019.8500  1406.6500  2927.7937  ...   85.25875  206.53625   \n",
            "61   5791.6070  2876.4211  2150.9587  3767.0024  ...   63.63500  437.65250   \n",
            "\n",
            "       T90549     D17390      M33210     H18490     H40891    R77780  \\\n",
            "0   138.89874   88.23250   39.667860   67.82875   75.67750  83.52250   \n",
            "1   150.59000   82.23750   85.033330  152.19500  186.56750  44.47250   \n",
            "2   193.92000   76.97250  224.620240   31.22500   42.65625  16.09250   \n",
            "3   183.00626   74.52875   67.710720   48.33875   42.52000  49.98250   \n",
            "4    61.70125   54.56375  223.359530   73.09875   57.59875   7.48875   \n",
            "..        ...        ...         ...        ...        ...       ...   \n",
            "57   93.95000   86.90875   95.442856   31.18750   57.15250  13.96000   \n",
            "58   84.75125   60.27375  143.877380    8.99625  106.87875  23.20250   \n",
            "59  166.75500  130.45500  124.253570   96.46500  133.52126  93.09875   \n",
            "60   80.44875  104.80500  180.941670   68.93375  118.20125  32.68750   \n",
            "61  178.27250  153.84875  269.436900   67.86250   77.21500  49.86250   \n",
            "\n",
            "      T49647  Class  \n",
            "0   28.70125      1  \n",
            "1   16.77375      0  \n",
            "2   15.15625      1  \n",
            "3   16.08500      0  \n",
            "4   31.81250      1  \n",
            "..       ...    ...  \n",
            "57  10.54750      1  \n",
            "58  32.16625      1  \n",
            "59   7.43250      0  \n",
            "60  23.26500      1  \n",
            "61  39.63125      0  \n",
            "\n",
            "[62 rows x 2002 columns]\n"
          ]
        }
      ]
    },
    {
      "cell_type": "code",
      "source": [
        "from sklearn.model_selection import train_test_split\n",
        "y = df.Class\n",
        "X = df.drop('Class', axis=1)\n",
        "X_train, X_test, y_train, y_test = train_test_split(X, y,test_size=0.2)\n",
        "print(\"\\nX_train:\\n\")\n",
        "print(X_train.head())\n",
        "print(X_train.shape)\n",
        "\n",
        "print(\"\\nX_test:\\n\")\n",
        "print(X_test.head())\n",
        "print(X_test.shape)"
      ],
      "metadata": {
        "colab": {
          "base_uri": "https://localhost:8080/"
        },
        "id": "m_fvqxA1dW_f",
        "outputId": "a85ea5ab-adbc-4fcb-bebe-523a658f6338"
      },
      "execution_count": null,
      "outputs": [
        {
          "output_type": "stream",
          "name": "stdout",
          "text": [
            "\n",
            "X_train:\n",
            "\n",
            "    Unnamed: 0      H55933     R39465    R39465_     R85482     U14973  \\\n",
            "58          59   9112.3720  6824.4863  5982.8460  3147.0430  4847.3080   \n",
            "44          45   9443.8780  6671.7773  6260.6160  4905.7090  3139.2488   \n",
            "60          61   6234.6226  4005.3000  3093.6750  3183.0857  1795.3107   \n",
            "61          62   7472.0100  3653.9340  2728.2163  3494.4805  2404.6655   \n",
            "42          43  11447.6310  3529.1272  2920.8413  5445.8623  2699.2620   \n",
            "\n",
            "        R02593     T51496     H80240     T65938  ...     X67699     R70790  \\\n",
            "58  11222.6820  6333.4727  4299.5024  4644.4424  ...  129.40475   35.87875   \n",
            "44  10926.2180  7376.8500  3245.2512  6518.7363  ...  725.33810  281.90250   \n",
            "60   3940.8464  2019.8500  1406.6500  2927.7937  ...  190.71190   85.25875   \n",
            "61   5791.6070  2876.4211  2150.9587  3767.0024  ...  178.94643   63.63500   \n",
            "42   6637.8145  4903.8965  3411.6025  2534.9038  ...  372.16190   60.37125   \n",
            "\n",
            "       L11706     T90549     D17390     M33210     H18490     H40891  \\\n",
            "58  342.65000   84.75125   60.27375  143.87738    8.99625  106.87875   \n",
            "44  522.58250  330.31375  293.45126  149.93333  240.61250  247.29500   \n",
            "60  206.53625   80.44875  104.80500  180.94167   68.93375  118.20125   \n",
            "61  437.65250  178.27250  153.84875  269.43690   67.86250   77.21500   \n",
            "42  232.72874  214.44624  372.51750  463.85240  317.15375  334.36874   \n",
            "\n",
            "      R77780     T49647  \n",
            "58   23.2025   32.16625  \n",
            "44  197.2200   95.59625  \n",
            "60   32.6875   23.26500  \n",
            "61   49.8625   39.63125  \n",
            "42  176.5675  126.82625  \n",
            "\n",
            "[5 rows x 2001 columns]\n",
            "(49, 2001)\n",
            "\n",
            "X_test:\n",
            "\n",
            "    Unnamed: 0     H55933     R39465    R39465_     R85482     U14973  \\\n",
            "47          48  6302.7764  4127.4976  3635.6950  2604.7412  1796.4321   \n",
            "56          57  4653.2373  6251.5566  4947.1226  3763.5464  2737.1606   \n",
            "8            9  9330.6790  7017.2295  4723.7827  9491.5340  5346.5415   \n",
            "16          17  7144.4062  2071.4023  1619.2762  2576.1590  3401.1500   \n",
            "24          25  8865.4590  5447.1865  4887.0576  3782.5945  3927.0107   \n",
            "\n",
            "      R02593     T51496     H80240     T65938  ...     X67699     R70790  \\\n",
            "47  2736.157  3648.1038  2414.6438  3182.2550  ...  505.25238  242.84500   \n",
            "56  2792.532  2005.7125  2201.1775  2919.9187  ...  270.93570   28.98000   \n",
            "8   1557.143  1969.0800  2295.4026  6880.3460  ...  111.13810   42.14625   \n",
            "16  2915.093  3361.5350  2888.0613  6749.6650  ...    5.95000   26.71500   \n",
            "24  6138.971  4379.5950  5385.0300  5130.4077  ...  159.17976   86.30500   \n",
            "\n",
            "       L11706     T90549     D17390      M33210    H18490     H40891  \\\n",
            "47  208.65750  158.51500  162.25250  392.371430  64.36375   94.47375   \n",
            "56  530.16876  264.92000   79.34125  640.058350   7.02625   94.53500   \n",
            "8   277.85376  176.10374  149.15625  209.911900  99.91500  122.44125   \n",
            "16  244.27000   30.77500   23.96875  145.311900  45.93125   58.61125   \n",
            "24  253.40250  185.46625   77.13375    5.888095  57.80875  118.89375   \n",
            "\n",
            "      R77780   T49647  \n",
            "47  52.17625  25.2025  \n",
            "56  56.83500  31.3500  \n",
            "8   40.39125  26.8475  \n",
            "16  17.25625  48.4925  \n",
            "24  44.87625  56.0000  \n",
            "\n",
            "[5 rows x 2001 columns]\n",
            "(13, 2001)\n"
          ]
        }
      ]
    },
    {
      "cell_type": "code",
      "source": [
        "print(X)\n",
        "print(y)"
      ],
      "metadata": {
        "colab": {
          "base_uri": "https://localhost:8080/"
        },
        "id": "9vLZntqMiHfX",
        "outputId": "9d5f9148-eb9a-42de-d127-677285786c7e"
      },
      "execution_count": null,
      "outputs": [
        {
          "output_type": "stream",
          "name": "stdout",
          "text": [
            "    Unnamed: 0     H55933     R39465    R39465_     R85482     U14973  \\\n",
            "0            1  8589.4160  5468.2407  4263.4077  4064.9358  1997.8930   \n",
            "1            2  9164.2540  6719.5293  4883.4487  3718.1590  2015.2214   \n",
            "2            3  3825.7050  6970.3613  5369.9688  4705.6500  1166.5536   \n",
            "3            4  6246.4487  7823.5340  5955.8350  3975.5642  2002.6132   \n",
            "4            5  3230.3286  3694.4500  3400.7400  3463.5857  2181.4202   \n",
            "..         ...        ...        ...        ...        ...        ...   \n",
            "57          58  4972.1660  4173.9180  3668.5337  1567.5554  1570.4406   \n",
            "58          59  9112.3720  6824.4863  5982.8460  3147.0430  4847.3080   \n",
            "59          60  6730.6250  3472.1250  2559.4624  2624.6892  1596.2179   \n",
            "60          61  6234.6226  4005.3000  3093.6750  3183.0857  1795.3107   \n",
            "61          62  7472.0100  3653.9340  2728.2163  3494.4805  2404.6655   \n",
            "\n",
            "        R02593     T51496     H80240     T65938  ...      X67699     R70790  \\\n",
            "0    5282.3250  2169.7200  2773.4211  7526.3860  ...   99.110720   67.56125   \n",
            "1    5569.9070  3849.0588  2793.3875  7017.7340  ...  126.789290   92.23875   \n",
            "2    1572.1678  1325.4025  1472.2587  3296.9512  ...  151.877380   82.71500   \n",
            "3    2130.5430  1531.1425  1714.6312  3869.7850  ...  152.595250   41.68375   \n",
            "4    2922.7820  2069.2463  2948.5750  3303.3710  ...  126.464290   76.60375   \n",
            "..         ...        ...        ...        ...  ...         ...        ...   \n",
            "57   3466.8108  2106.4988  1535.7574  1887.6212  ...   70.667854    6.44750   \n",
            "58  11222.6820  6333.4727  4299.5024  4644.4424  ...  129.404750   35.87875   \n",
            "59   4372.7890  3798.5261  1026.4775  3512.3337  ...  254.865480  119.96250   \n",
            "60   3940.8464  2019.8500  1406.6500  2927.7937  ...  190.711900   85.25875   \n",
            "61   5791.6070  2876.4211  2150.9587  3767.0024  ...  178.946430   63.63500   \n",
            "\n",
            "       L11706     T90549     D17390      M33210     H18490     H40891  \\\n",
            "0   259.91250  138.89874   88.23250   39.667860   67.82875   75.67750   \n",
            "1    96.27625  150.59000   82.23750   85.033330  152.19500  186.56750   \n",
            "2    31.10250  193.92000   76.97250  224.620240   31.22500   42.65625   \n",
            "3     5.92500  183.00626   74.52875   67.710720   48.33875   42.52000   \n",
            "4   161.35000   61.70125   54.56375  223.359530   73.09875   57.59875   \n",
            "..        ...        ...        ...         ...        ...        ...   \n",
            "57  156.44500   93.95000   86.90875   95.442856   31.18750   57.15250   \n",
            "58  342.65000   84.75125   60.27375  143.877380    8.99625  106.87875   \n",
            "59  111.60375  166.75500  130.45500  124.253570   96.46500  133.52126   \n",
            "60  206.53625   80.44875  104.80500  180.941670   68.93375  118.20125   \n",
            "61  437.65250  178.27250  153.84875  269.436900   67.86250   77.21500   \n",
            "\n",
            "      R77780    T49647  \n",
            "0   83.52250  28.70125  \n",
            "1   44.47250  16.77375  \n",
            "2   16.09250  15.15625  \n",
            "3   49.98250  16.08500  \n",
            "4    7.48875  31.81250  \n",
            "..       ...       ...  \n",
            "57  13.96000  10.54750  \n",
            "58  23.20250  32.16625  \n",
            "59  93.09875   7.43250  \n",
            "60  32.68750  23.26500  \n",
            "61  49.86250  39.63125  \n",
            "\n",
            "[62 rows x 2001 columns]\n",
            "0     1\n",
            "1     0\n",
            "2     1\n",
            "3     0\n",
            "4     1\n",
            "     ..\n",
            "57    1\n",
            "58    1\n",
            "59    0\n",
            "60    1\n",
            "61    0\n",
            "Name: Class, Length: 62, dtype: int64\n"
          ]
        }
      ]
    },
    {
      "cell_type": "code",
      "source": [
        "!pip install mrmr_selection\n",
        "from mrmr import mrmr_classif\n",
        "from sklearn.datasets import make_classification\n",
        "selected_features = mrmr_classif(X, y, K = 500)\n",
        "print(selected_features)"
      ],
      "metadata": {
        "colab": {
          "base_uri": "https://localhost:8080/"
        },
        "id": "iECUl316bPvG",
        "outputId": "f976e24f-717e-4aa8-9fee-197e3daffbc7"
      },
      "execution_count": null,
      "outputs": [
        {
          "output_type": "stream",
          "name": "stdout",
          "text": [
            "Looking in indexes: https://pypi.org/simple, https://us-python.pkg.dev/colab-wheels/public/simple/\n",
            "Collecting mrmr_selection\n",
            "  Downloading mrmr_selection-0.2.5-py3-none-any.whl (24 kB)\n",
            "Requirement already satisfied: scipy in /usr/local/lib/python3.8/dist-packages (from mrmr_selection) (1.7.3)\n",
            "Requirement already satisfied: tqdm in /usr/local/lib/python3.8/dist-packages (from mrmr_selection) (4.64.1)\n",
            "Requirement already satisfied: numpy>=1.18.1 in /usr/local/lib/python3.8/dist-packages (from mrmr_selection) (1.21.6)\n",
            "Requirement already satisfied: joblib in /usr/local/lib/python3.8/dist-packages (from mrmr_selection) (1.2.0)\n",
            "Collecting sklearn\n",
            "  Downloading sklearn-0.0.post1.tar.gz (3.6 kB)\n",
            "  Preparing metadata (setup.py) ... \u001b[?25l\u001b[?25hdone\n",
            "Requirement already satisfied: pandas>=1.0.3 in /usr/local/lib/python3.8/dist-packages (from mrmr_selection) (1.3.5)\n",
            "Collecting category-encoders\n",
            "  Downloading category_encoders-2.5.1.post0-py2.py3-none-any.whl (72 kB)\n",
            "\u001b[2K     \u001b[90m━━━━━━━━━━━━━━━━━━━━━━━━━━━━━━━━━━━━━━━━\u001b[0m \u001b[32m72.4/72.4 KB\u001b[0m \u001b[31m9.5 MB/s\u001b[0m eta \u001b[36m0:00:00\u001b[0m\n",
            "\u001b[?25hRequirement already satisfied: jinja2 in /usr/local/lib/python3.8/dist-packages (from mrmr_selection) (2.11.3)\n",
            "Requirement already satisfied: pytz>=2017.3 in /usr/local/lib/python3.8/dist-packages (from pandas>=1.0.3->mrmr_selection) (2022.7)\n",
            "Requirement already satisfied: python-dateutil>=2.7.3 in /usr/local/lib/python3.8/dist-packages (from pandas>=1.0.3->mrmr_selection) (2.8.2)\n",
            "Requirement already satisfied: patsy>=0.5.1 in /usr/local/lib/python3.8/dist-packages (from category-encoders->mrmr_selection) (0.5.3)\n",
            "Requirement already satisfied: statsmodels>=0.9.0 in /usr/local/lib/python3.8/dist-packages (from category-encoders->mrmr_selection) (0.12.2)\n",
            "Requirement already satisfied: scikit-learn>=0.20.0 in /usr/local/lib/python3.8/dist-packages (from category-encoders->mrmr_selection) (1.0.2)\n",
            "Requirement already satisfied: MarkupSafe>=0.23 in /usr/local/lib/python3.8/dist-packages (from jinja2->mrmr_selection) (2.0.1)\n",
            "Requirement already satisfied: six in /usr/local/lib/python3.8/dist-packages (from patsy>=0.5.1->category-encoders->mrmr_selection) (1.15.0)\n",
            "Requirement already satisfied: threadpoolctl>=2.0.0 in /usr/local/lib/python3.8/dist-packages (from scikit-learn>=0.20.0->category-encoders->mrmr_selection) (3.1.0)\n",
            "Building wheels for collected packages: sklearn\n",
            "  Building wheel for sklearn (setup.py) ... \u001b[?25l\u001b[?25hdone\n",
            "  Created wheel for sklearn: filename=sklearn-0.0.post1-py3-none-any.whl size=2344 sha256=39b2a98858eb97abfbae1565e22de89cddacd1b324e519d34c4173bc8323b2b6\n",
            "  Stored in directory: /root/.cache/pip/wheels/14/25/f7/1cc0956978ae479e75140219088deb7a36f60459df242b1a72\n",
            "Successfully built sklearn\n",
            "Installing collected packages: sklearn, category-encoders, mrmr_selection\n",
            "Successfully installed category-encoders-2.5.1.post0 mrmr_selection-0.2.5 sklearn-0.0.post1\n"
          ]
        },
        {
          "output_type": "stream",
          "name": "stderr",
          "text": [
            "100%|██████████| 500/500 [04:15<00:00,  1.96it/s]"
          ]
        },
        {
          "output_type": "stream",
          "name": "stdout",
          "text": [
            "['M63391', 'D13641', 'J02854', 'M76378__', 'H55916', 'Z50753', 'H08393', 'R87126', 'M76378', 'T62947', 'M76378_', 'X63629', 'T71025', 'T92451', 'J05032', 'R84411', 'R80427', 'U25138', 'X12671', 'T47377', 'H43887', 'T56604', 'H64489', 'M26697', 'M82919', 'H40095', 'M36634', 'T57468', 'X86693', 'M22382', 'U09587', 'X12369', 'T95018', 'H23544', 'T60155', 'T57619', 'H06524', 'X55715', 'Z24727', 'R08183', 'M80815', 'X14958', 'R78934', 'D43950', 'H55758', 'U19969', 'H67764', 'X70326', 'T60778', 'U09564', 'L07648', 'X12466', 'T67077', 'T51261', 'H40560', 'M64110', 'L11706', 'R36977', 'R54097', 'H77597', 'H05803', 'L05144', 'T58861', 'T83368', 'R62549', 'R44301', 'M26383', 'T59878', 'U14631', 'T51023', 'T51529', 'X56597', 'R67358', 'D00860', 'R15447', 'U32519', 'T86473', 'U01038', 'T48804', 'M91463', 'T52185', 'Z49269_', 'T51571', 'X74295', 'U30825', 'X83301', 'D29808', 'U17899', 'R60877', 'U22055', 'X54942', 'Z49269', 'T90350', 'T61609', 'T61661_', 'T79152', 'D31716', 'T70062', 'H17434', 'M36981', 'T94350', 'R64115', 'X15880', 'H65355', 'R10066', 'D42047', 'M87789', 'T63370', 'M15841', 'D31885', 'H20426', 'X16356', 'X87159', 'L12723', 'U14971', 'U31525', 'U21090', 'M94203', 'T98555', 'H70425', 'H41129', 'D38551', 'T51534', 'M34344', 'X15882', 'R42501', 'H24030', 'L10284', 'D26129', 'U26312', 'T49732', 'M96839', 'T89666', 'X54941', 'D13315_', 'T51858', 'J00231', 'T62972', 'M96233', 'M58050', 'R44418', 'H40137', 'M34175__', 'T56940', 'H72234', 'T51493', 'R08021', 'T61661', 'T51539', 'R97912', 'R46753', 'Z48541', 'T96873', 'T86749', 'T95048', 'T72938', 'T57483', 'D16431', 'M83667', 'Z11502', 'R34698', 'M28128', 'U04953', 'M35531', 'T63133', 'H89087', 'U02493', 'Z25521', 'M26252', 'R48303', 'X06614', 'U05040', 'D21261', 'H11084', 'R42127', 'R75843', 'M28882', 'X75208', 'T50797', 'X15183', 'T47144', 'X68277', 'H40269', 'M18216', 'L08069', 'T90280', 'X53586', 'M94630', 'R99907', 'T72863', 'X74795', 'H78386', 'R81170', 'M69135', 'L28010', 'X68314', 'M19045', 'M92287', 'R41873', 'R44884', 'T40578', 'T40454', 'X60489', 'X06614_', 'T72175', 'R33367', 'D59253', 'X72727', 'T68848', 'T94993', 'Y00345', 'T50321', 'H01346', 'J04102', 'H87344', 'J04621', 'M16937', 'R42244', 'T67406', 'D25217', 'R44770', 'X74330', 'M88279', 'T41204', 'D63874', 'D14662', 'T71001', 'D00596', 'R34876', 'T47383', 'R16156', 'M94556', 'X68688', 'R88740', 'H25136', 'R11485', 'K03460', 'M86553', 'H20709', 'R50158', 'H17646', 'X89986', 'T55248', 'X12496', 'M37583', 'T57633', 'R37428', 'X55187', 'X07290', 'R93738', 'T54276', 'M92843', 'R01182', 'D29641', 'D14520', 'D00763', 'T72889', 'R65697', 'T69748', 'D15049', 'R23889', 'D00762', 'L06132', 'M64445', 'M31303', 'L38503', 'control4', 'control5', 'L19437', 'control6', 'U37012', 'control7', 'H65823', 'T56244', 'M34175_', 'T53549', 'X66839', 'M76558', 'X01060', 'T56690', 'R49565', 'M29065', 'U10324', 'H05899', 'T72879', 'U07664', 'M34175', 'T52015', 'H79136', 'H62828', 'L03840', 'R98842', 'H24401', 'R40717_', 'J03210', 'X55362', 'T48904', 'T63496', 'J04813', 'M84721', 'M86737', 'X87342', 'M26683', 'M28373', 'T65790', 'T63591', 'R96357', 'T84049', 'M22490', 'L09604', 'control8', 'X73902', 'X67155', 'R39465_', 'T69446', 'M94132', 'T47584', 'T57780', 'L24203', 'X13482', 'U31215', 'T60437', 'Y00264', 'X07767', 'M65028', 'R86975', 'M81637', 'D13627', 'R01124', 'T51558', 'H20819', 'U24166', 'R20554', 'R56401', 'X69141', 'control9', 'R80612', 'M14200', 'X62153', 'H87473', 'H61410', 'U28686', 'M85289', 'U21049', 'R54422', 'T57630', 'H20512', 'R28373', 'H22579_', 'T65003', 'R22197', 'T84481', 'R67999', 'control10', 'X65873', 'H65182', 'M83751', 'M35878', 'M93651', 'T53889', 'T52642', 'R54941', 'H16991', 'M65105', 'L38951', 'H81068', 'T70058', 'control11', 'R56399', 'X57351', 'U12255_', 'M23115', 'M86752', 'D14665', 'M23419_', 'H64807', 'U34074', 'M59040', 'X81817', 'T51849', 'M86400', 'R41866', 'R71585', 'D13315', 'X82103', 'T93094', 'U29092', 'U06698', 'R40717', 'H38185', 'D16294', 'X70944', 'T64012', 'T61602', 'L41559', 'J04794', 'M64231', 'R49416', 'R78927', 'Z17240', 'X16354', 'T50334_', 'L37936', 'X81372', 'D14663', 'R43914', 'T78104', 'X72018', 'T58645', 'X89985', 'T54364', 'T40645', 'H81558', 'R73660', 'R52081', 'T54341', 'T51613', 'T47645', 'J04026', 'T80178', 'T65938', 'Y00971', 'U07695_', 'R45529', 'D13665', 'R70030', 'T53694', 'R44052', 'T65758', 'T49423', 'M14200_', 'X51417', 'T47719', 'J00073', 'U10362', 'T94579', 'T65740', 'D16469', 'R21547', 'M88108', 'U07695__', 'M97676', 'T48102', 'T92259', 'X64229', 'J03569', 'D14812', 'L27476', 'H45977', 'H06245', 'H86060', 'M90516', 'T57780_', 'R27369', 'H72965', 'R49459', 'T57686', 'T60318', 'R39209', 'M22632', 'U26710', 'K02268', 'U07695', 'M81933', 'Z18948', 'M77698', 'H73908', 'U05291', 'M21339', 'D55673', 'R37464', 'H39654', 'T49941', 'U26401', 'T71574', 'M63239', 'H23098', 'D43947', 'D17400', 'T72503', 'T73092', 'U12255', 'L33930', 'U37673_', 'D00761', 'R67343', 'L13385', 'H87135', 'T53396_', 'T58731', 'Y00711', 'R59202', 'R43913', 'T62220', 'J03040', 'X69295', 'L05485', 'X73882', 'R59583', 'R62945']\n"
          ]
        },
        {
          "output_type": "stream",
          "name": "stderr",
          "text": [
            "\n"
          ]
        }
      ]
    },
    {
      "cell_type": "code",
      "source": [
        "X_train = X_train.to_numpy()\n",
        "X_test = X_test.to_numpy()"
      ],
      "metadata": {
        "id": "q-YysNZElbiH"
      },
      "execution_count": null,
      "outputs": []
    },
    {
      "cell_type": "code",
      "source": [
        "print(X_train)"
      ],
      "metadata": {
        "colab": {
          "base_uri": "https://localhost:8080/"
        },
        "id": "B4JPfgF0m4s7",
        "outputId": "32b2be38-6a1d-4628-ae2f-ef4be2b1a9f0"
      },
      "execution_count": null,
      "outputs": [
        {
          "output_type": "stream",
          "name": "stdout",
          "text": [
            "[[5.9000000e+01 9.1123720e+03 6.8244863e+03 ... 1.0687875e+02\n",
            "  2.3202500e+01 3.2166250e+01]\n",
            " [4.5000000e+01 9.4438780e+03 6.6717773e+03 ... 2.4729500e+02\n",
            "  1.9722000e+02 9.5596250e+01]\n",
            " [6.1000000e+01 6.2346226e+03 4.0053000e+03 ... 1.1820125e+02\n",
            "  3.2687500e+01 2.3265000e+01]\n",
            " ...\n",
            " [3.4000000e+01 8.3479830e+03 9.8522980e+03 ... 1.2705000e+02\n",
            "  4.5840000e+01 2.5995000e+01]\n",
            " [2.0000000e+00 9.1642540e+03 6.7195293e+03 ... 1.8656750e+02\n",
            "  4.4472500e+01 1.6773750e+01]\n",
            " [2.6000000e+01 5.9348887e+03 3.7449885e+03 ... 1.1316000e+02\n",
            "  1.7115000e+01 1.9750000e+01]]\n"
          ]
        }
      ]
    },
    {
      "cell_type": "code",
      "source": [
        "trainX = X_train[:,1:].astype('float32')\n",
        "X_train = trainX/255.0\n",
        "\n",
        "testX = X_test[:,1:].astype('float32')\n",
        "X_test = testX/255.0"
      ],
      "metadata": {
        "collapsed": true,
        "jupyter": {
          "outputs_hidden": true
        },
        "id": "fepRy7p_7Jpv"
      },
      "execution_count": null,
      "outputs": []
    },
    {
      "cell_type": "code",
      "source": [
        "import xgboost as xgb\n",
        "\n",
        "model = xgb.XGBClassifier()\n",
        "\n",
        "import numpy as np\n",
        "from sklearn.model_selection import KFold\n",
        "\n",
        "kf = KFold(n_splits=10)\n",
        "\n",
        "for i, (train_index, test_index) in enumerate(kf.split(X)):\n",
        "    if i == 9:\n",
        "        train_index = selected_features\n",
        "        test_index = test_index\n",
        "        model.fit(X_train, y_train) \n",
        "        accuracy = model.score(X_test, y_test)\n",
        "        print(f\"Fold {i}: accuracy={accuracy:.2f}\")\n",
        "\n",
        "    else:\n",
        "        train_index,test_index = X,y\n",
        "        model.fit(X_train, y_train) \n",
        "        accuracy = model.score(X_test, y_test)\n",
        "        print(f\"Fold {i}: accuracy={accuracy:.2f}\")\n"
      ],
      "metadata": {
        "colab": {
          "base_uri": "https://localhost:8080/"
        },
        "outputId": "f04bc603-8a9e-40e4-bd01-d1257f77f29e",
        "id": "tX_-9v6Z1bTw"
      },
      "execution_count": null,
      "outputs": [
        {
          "output_type": "stream",
          "name": "stdout",
          "text": [
            "Fold 0: accuracy=0.92\n",
            "Fold 1: accuracy=0.92\n",
            "Fold 2: accuracy=0.92\n",
            "Fold 3: accuracy=0.92\n",
            "Fold 4: accuracy=0.92\n",
            "Fold 5: accuracy=0.92\n",
            "Fold 6: accuracy=0.92\n",
            "Fold 7: accuracy=0.92\n",
            "Fold 8: accuracy=0.92\n",
            "Fold 9: accuracy=0.92\n"
          ]
        }
      ]
    },
    {
      "cell_type": "code",
      "source": [
        "#Accuracy without mrmr\n",
        "from numpy import loadtxt\n",
        "import xgboost\n",
        "from sklearn.model_selection import KFold\n",
        "from sklearn.model_selection import cross_val_score\n",
        "model = xgboost.XGBClassifier()\n",
        "kfold = KFold(n_splits=10)\n",
        "results = cross_val_score(model, X, y, cv=kfold)\n",
        "print(\"Accuracy: %.2f%% (%.2f%%)\" % (results.mean()*100, results.std()*100))"
      ],
      "metadata": {
        "colab": {
          "base_uri": "https://localhost:8080/"
        },
        "id": "alS5rYNH7qN_",
        "outputId": "415d5813-7a6f-4715-ffa8-ea58af9ab4bc"
      },
      "execution_count": null,
      "outputs": [
        {
          "output_type": "stream",
          "name": "stdout",
          "text": [
            "Accuracy: 80.24% (18.01%)\n"
          ]
        }
      ]
    }
  ]
}