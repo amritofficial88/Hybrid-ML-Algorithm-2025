{
  "metadata": {
    "kernelspec": {
      "display_name": "Python 3",
      "name": "python3",
      "language": "python"
    },
    "language_info": {
      "name": "python",
      "pygments_lexer": "ipython3",
      "nbconvert_exporter": "python",
      "mimetype": "text/x-python",
      "file_extension": ".py",
      "codemirror_mode": {
        "version": 3,
        "name": "ipython"
      },
      "version": "3.6.3"
    },
    "colab": {
      "provenance": []
    },
    "accelerator": "GPU",
    "gpuClass": "standard"
  },
  "nbformat_minor": 0,
  "nbformat": 4,
  "cells": [
    {
      "cell_type": "code",
      "source": [
        "import numpy as np \n",
        "import pandas as pd "
      ],
      "metadata": {
        "_cell_guid": "170f0fb3-b5da-4a9b-870a-0365b4bc8f30",
        "_uuid": "a31348a5eba01332c755b5d244ff9d8a5f1d3ee7",
        "scrolled": true,
        "id": "fjrbwJyi7Jps"
      },
      "execution_count": null,
      "outputs": []
    },
    {
      "cell_type": "code",
      "source": [
        "from google.colab import files\n",
        "uploaded = files.upload()"
      ],
      "metadata": {
        "colab": {
          "base_uri": "https://localhost:8080/",
          "height": 73
        },
        "id": "QVZHCt0b4giz",
        "outputId": "efea1778-2e21-4aea-ba82-98e76b236947"
      },
      "execution_count": null,
      "outputs": [
        {
          "output_type": "display_data",
          "data": {
            "text/plain": [
              "<IPython.core.display.HTML object>"
            ],
            "text/html": [
              "\n",
              "     <input type=\"file\" id=\"files-97312a57-6ee7-444a-8519-6134b910ae62\" name=\"files[]\" multiple disabled\n",
              "        style=\"border:none\" />\n",
              "     <output id=\"result-97312a57-6ee7-444a-8519-6134b910ae62\">\n",
              "      Upload widget is only available when the cell has been executed in the\n",
              "      current browser session. Please rerun this cell to enable.\n",
              "      </output>\n",
              "      <script>// Copyright 2017 Google LLC\n",
              "//\n",
              "// Licensed under the Apache License, Version 2.0 (the \"License\");\n",
              "// you may not use this file except in compliance with the License.\n",
              "// You may obtain a copy of the License at\n",
              "//\n",
              "//      http://www.apache.org/licenses/LICENSE-2.0\n",
              "//\n",
              "// Unless required by applicable law or agreed to in writing, software\n",
              "// distributed under the License is distributed on an \"AS IS\" BASIS,\n",
              "// WITHOUT WARRANTIES OR CONDITIONS OF ANY KIND, either express or implied.\n",
              "// See the License for the specific language governing permissions and\n",
              "// limitations under the License.\n",
              "\n",
              "/**\n",
              " * @fileoverview Helpers for google.colab Python module.\n",
              " */\n",
              "(function(scope) {\n",
              "function span(text, styleAttributes = {}) {\n",
              "  const element = document.createElement('span');\n",
              "  element.textContent = text;\n",
              "  for (const key of Object.keys(styleAttributes)) {\n",
              "    element.style[key] = styleAttributes[key];\n",
              "  }\n",
              "  return element;\n",
              "}\n",
              "\n",
              "// Max number of bytes which will be uploaded at a time.\n",
              "const MAX_PAYLOAD_SIZE = 100 * 1024;\n",
              "\n",
              "function _uploadFiles(inputId, outputId) {\n",
              "  const steps = uploadFilesStep(inputId, outputId);\n",
              "  const outputElement = document.getElementById(outputId);\n",
              "  // Cache steps on the outputElement to make it available for the next call\n",
              "  // to uploadFilesContinue from Python.\n",
              "  outputElement.steps = steps;\n",
              "\n",
              "  return _uploadFilesContinue(outputId);\n",
              "}\n",
              "\n",
              "// This is roughly an async generator (not supported in the browser yet),\n",
              "// where there are multiple asynchronous steps and the Python side is going\n",
              "// to poll for completion of each step.\n",
              "// This uses a Promise to block the python side on completion of each step,\n",
              "// then passes the result of the previous step as the input to the next step.\n",
              "function _uploadFilesContinue(outputId) {\n",
              "  const outputElement = document.getElementById(outputId);\n",
              "  const steps = outputElement.steps;\n",
              "\n",
              "  const next = steps.next(outputElement.lastPromiseValue);\n",
              "  return Promise.resolve(next.value.promise).then((value) => {\n",
              "    // Cache the last promise value to make it available to the next\n",
              "    // step of the generator.\n",
              "    outputElement.lastPromiseValue = value;\n",
              "    return next.value.response;\n",
              "  });\n",
              "}\n",
              "\n",
              "/**\n",
              " * Generator function which is called between each async step of the upload\n",
              " * process.\n",
              " * @param {string} inputId Element ID of the input file picker element.\n",
              " * @param {string} outputId Element ID of the output display.\n",
              " * @return {!Iterable<!Object>} Iterable of next steps.\n",
              " */\n",
              "function* uploadFilesStep(inputId, outputId) {\n",
              "  const inputElement = document.getElementById(inputId);\n",
              "  inputElement.disabled = false;\n",
              "\n",
              "  const outputElement = document.getElementById(outputId);\n",
              "  outputElement.innerHTML = '';\n",
              "\n",
              "  const pickedPromise = new Promise((resolve) => {\n",
              "    inputElement.addEventListener('change', (e) => {\n",
              "      resolve(e.target.files);\n",
              "    });\n",
              "  });\n",
              "\n",
              "  const cancel = document.createElement('button');\n",
              "  inputElement.parentElement.appendChild(cancel);\n",
              "  cancel.textContent = 'Cancel upload';\n",
              "  const cancelPromise = new Promise((resolve) => {\n",
              "    cancel.onclick = () => {\n",
              "      resolve(null);\n",
              "    };\n",
              "  });\n",
              "\n",
              "  // Wait for the user to pick the files.\n",
              "  const files = yield {\n",
              "    promise: Promise.race([pickedPromise, cancelPromise]),\n",
              "    response: {\n",
              "      action: 'starting',\n",
              "    }\n",
              "  };\n",
              "\n",
              "  cancel.remove();\n",
              "\n",
              "  // Disable the input element since further picks are not allowed.\n",
              "  inputElement.disabled = true;\n",
              "\n",
              "  if (!files) {\n",
              "    return {\n",
              "      response: {\n",
              "        action: 'complete',\n",
              "      }\n",
              "    };\n",
              "  }\n",
              "\n",
              "  for (const file of files) {\n",
              "    const li = document.createElement('li');\n",
              "    li.append(span(file.name, {fontWeight: 'bold'}));\n",
              "    li.append(span(\n",
              "        `(${file.type || 'n/a'}) - ${file.size} bytes, ` +\n",
              "        `last modified: ${\n",
              "            file.lastModifiedDate ? file.lastModifiedDate.toLocaleDateString() :\n",
              "                                    'n/a'} - `));\n",
              "    const percent = span('0% done');\n",
              "    li.appendChild(percent);\n",
              "\n",
              "    outputElement.appendChild(li);\n",
              "\n",
              "    const fileDataPromise = new Promise((resolve) => {\n",
              "      const reader = new FileReader();\n",
              "      reader.onload = (e) => {\n",
              "        resolve(e.target.result);\n",
              "      };\n",
              "      reader.readAsArrayBuffer(file);\n",
              "    });\n",
              "    // Wait for the data to be ready.\n",
              "    let fileData = yield {\n",
              "      promise: fileDataPromise,\n",
              "      response: {\n",
              "        action: 'continue',\n",
              "      }\n",
              "    };\n",
              "\n",
              "    // Use a chunked sending to avoid message size limits. See b/62115660.\n",
              "    let position = 0;\n",
              "    do {\n",
              "      const length = Math.min(fileData.byteLength - position, MAX_PAYLOAD_SIZE);\n",
              "      const chunk = new Uint8Array(fileData, position, length);\n",
              "      position += length;\n",
              "\n",
              "      const base64 = btoa(String.fromCharCode.apply(null, chunk));\n",
              "      yield {\n",
              "        response: {\n",
              "          action: 'append',\n",
              "          file: file.name,\n",
              "          data: base64,\n",
              "        },\n",
              "      };\n",
              "\n",
              "      let percentDone = fileData.byteLength === 0 ?\n",
              "          100 :\n",
              "          Math.round((position / fileData.byteLength) * 100);\n",
              "      percent.textContent = `${percentDone}% done`;\n",
              "\n",
              "    } while (position < fileData.byteLength);\n",
              "  }\n",
              "\n",
              "  // All done.\n",
              "  yield {\n",
              "    response: {\n",
              "      action: 'complete',\n",
              "    }\n",
              "  };\n",
              "}\n",
              "\n",
              "scope.google = scope.google || {};\n",
              "scope.google.colab = scope.google.colab || {};\n",
              "scope.google.colab._files = {\n",
              "  _uploadFiles,\n",
              "  _uploadFilesContinue,\n",
              "};\n",
              "})(self);\n",
              "</script> "
            ]
          },
          "metadata": {}
        },
        {
          "output_type": "stream",
          "name": "stdout",
          "text": [
            "Saving colon - labled-1 C.csv to colon - labled-1 C.csv\n"
          ]
        }
      ]
    },
    {
      "cell_type": "code",
      "source": [
        "import io\n",
        "df = pd.read_csv(io.BytesIO(uploaded['colon - labled-1 C.csv']))\n",
        "print(df)"
      ],
      "metadata": {
        "colab": {
          "base_uri": "https://localhost:8080/"
        },
        "id": "nEghRXyS4me8",
        "outputId": "27cc3a9b-f8b0-4463-f825-87130d650436"
      },
      "execution_count": null,
      "outputs": [
        {
          "output_type": "stream",
          "name": "stdout",
          "text": [
            "    Unnamed: 0     H55933     R39465    R39465_     R85482     U14973  \\\n",
            "0            1  8589.4160  5468.2407  4263.4077  4064.9358  1997.8930   \n",
            "1            2  9164.2540  6719.5293  4883.4487  3718.1590  2015.2214   \n",
            "2            3  3825.7050  6970.3613  5369.9688  4705.6500  1166.5536   \n",
            "3            4  6246.4487  7823.5340  5955.8350  3975.5642  2002.6132   \n",
            "4            5  3230.3286  3694.4500  3400.7400  3463.5857  2181.4202   \n",
            "..         ...        ...        ...        ...        ...        ...   \n",
            "57          58  4972.1660  4173.9180  3668.5337  1567.5554  1570.4406   \n",
            "58          59  9112.3720  6824.4863  5982.8460  3147.0430  4847.3080   \n",
            "59          60  6730.6250  3472.1250  2559.4624  2624.6892  1596.2179   \n",
            "60          61  6234.6226  4005.3000  3093.6750  3183.0857  1795.3107   \n",
            "61          62  7472.0100  3653.9340  2728.2163  3494.4805  2404.6655   \n",
            "\n",
            "        R02593     T51496     H80240     T65938  ...     R70790     L11706  \\\n",
            "0    5282.3250  2169.7200  2773.4211  7526.3860  ...   67.56125  259.91250   \n",
            "1    5569.9070  3849.0588  2793.3875  7017.7340  ...   92.23875   96.27625   \n",
            "2    1572.1678  1325.4025  1472.2587  3296.9512  ...   82.71500   31.10250   \n",
            "3    2130.5430  1531.1425  1714.6312  3869.7850  ...   41.68375    5.92500   \n",
            "4    2922.7820  2069.2463  2948.5750  3303.3710  ...   76.60375  161.35000   \n",
            "..         ...        ...        ...        ...  ...        ...        ...   \n",
            "57   3466.8108  2106.4988  1535.7574  1887.6212  ...    6.44750  156.44500   \n",
            "58  11222.6820  6333.4727  4299.5024  4644.4424  ...   35.87875  342.65000   \n",
            "59   4372.7890  3798.5261  1026.4775  3512.3337  ...  119.96250  111.60375   \n",
            "60   3940.8464  2019.8500  1406.6500  2927.7937  ...   85.25875  206.53625   \n",
            "61   5791.6070  2876.4211  2150.9587  3767.0024  ...   63.63500  437.65250   \n",
            "\n",
            "       T90549     D17390      M33210     H18490     H40891    R77780  \\\n",
            "0   138.89874   88.23250   39.667860   67.82875   75.67750  83.52250   \n",
            "1   150.59000   82.23750   85.033330  152.19500  186.56750  44.47250   \n",
            "2   193.92000   76.97250  224.620240   31.22500   42.65625  16.09250   \n",
            "3   183.00626   74.52875   67.710720   48.33875   42.52000  49.98250   \n",
            "4    61.70125   54.56375  223.359530   73.09875   57.59875   7.48875   \n",
            "..        ...        ...         ...        ...        ...       ...   \n",
            "57   93.95000   86.90875   95.442856   31.18750   57.15250  13.96000   \n",
            "58   84.75125   60.27375  143.877380    8.99625  106.87875  23.20250   \n",
            "59  166.75500  130.45500  124.253570   96.46500  133.52126  93.09875   \n",
            "60   80.44875  104.80500  180.941670   68.93375  118.20125  32.68750   \n",
            "61  178.27250  153.84875  269.436900   67.86250   77.21500  49.86250   \n",
            "\n",
            "      T49647  Class  \n",
            "0   28.70125      1  \n",
            "1   16.77375      0  \n",
            "2   15.15625      1  \n",
            "3   16.08500      0  \n",
            "4   31.81250      1  \n",
            "..       ...    ...  \n",
            "57  10.54750      1  \n",
            "58  32.16625      1  \n",
            "59   7.43250      0  \n",
            "60  23.26500      1  \n",
            "61  39.63125      0  \n",
            "\n",
            "[62 rows x 2002 columns]\n"
          ]
        }
      ]
    },
    {
      "cell_type": "code",
      "source": [
        "from sklearn.model_selection import train_test_split\n",
        "y = df.Class\n",
        "X = df.drop('Class', axis=1)\n",
        "X_train, X_test, y_train, y_test = train_test_split(X, y,test_size=0.2)\n",
        "print(\"\\nX_train:\\n\")\n",
        "print(X_train.head())\n",
        "print(X_train.shape)\n",
        "\n",
        "print(\"\\nX_test:\\n\")\n",
        "print(X_test.head())\n",
        "print(X_test.shape)"
      ],
      "metadata": {
        "colab": {
          "base_uri": "https://localhost:8080/"
        },
        "id": "m_fvqxA1dW_f",
        "outputId": "0a73227c-0431-44c1-aa47-752ce22bf9fa"
      },
      "execution_count": null,
      "outputs": [
        {
          "output_type": "stream",
          "name": "stdout",
          "text": [
            "\n",
            "X_train:\n",
            "\n",
            "    Unnamed: 0     H55933      R39465    R39465_     R85482     U14973  \\\n",
            "59          60  6730.6250   3472.1250  2559.4624  2624.6892  1596.2179   \n",
            "41          42  6194.2450   5202.0000  4079.6338  3951.1982  2382.2214   \n",
            "6            7  7126.5986   3779.0680  3705.5537  6594.5140  2460.9048   \n",
            "31          32  5012.0200   1383.4886  1269.6487  3168.7124  1945.4929   \n",
            "36          37  5466.9300  10152.2730  7760.9175  7258.2500  1469.6906   \n",
            "\n",
            "       R02593     T51496     H80240     T65938  ...     X67699     R70790  \\\n",
            "59  4372.7890  3798.5261  1026.4775  3512.3337  ...  254.86548  119.96250   \n",
            "41  1949.1643  1909.0975  3415.1038  3965.9700  ...  214.36070  103.07875   \n",
            "6   3775.6821  2621.4187  2047.2812  6411.2676  ...  147.80476   51.03250   \n",
            "31  2726.8037  3300.5938  1672.8600  4185.6226  ...  107.97976   96.21375   \n",
            "36  5695.6465  4662.8550  2949.1812  6223.8600  ...  247.62262  303.73750   \n",
            "\n",
            "       L11706     T90549     D17390     M33210     H18490     H40891  \\\n",
            "59  111.60375  166.75500  130.45500  124.25357   96.46500  133.52126   \n",
            "41  321.14500  140.93625  200.44000  164.53929   54.96250  113.40875   \n",
            "6    80.19000   76.48500   98.53750   54.62143   30.54000   52.96125   \n",
            "31  365.51376   34.02000  125.69625  562.30835  127.43625  171.84250   \n",
            "36  117.94750  333.41876  464.93000  118.31548   73.37375  114.95500   \n",
            "\n",
            "      R77780    T49647  \n",
            "59  93.09875   7.43250  \n",
            "41  76.41750  43.76875  \n",
            "6   37.23625  24.44500  \n",
            "31  36.49500  48.37500  \n",
            "36  47.55875   6.73125  \n",
            "\n",
            "[5 rows x 2001 columns]\n",
            "(49, 2001)\n",
            "\n",
            "X_test:\n",
            "\n",
            "    Unnamed: 0     H55933     R39465    R39465_     R85482     U14973  \\\n",
            "25          26  5934.8887  3744.9885  3528.8337  2721.7036  1556.6190   \n",
            "39          40  9128.1190  5502.7160  4590.1340  3234.4019  3978.5452   \n",
            "9           10  5271.5176  4740.7680  3318.5137  6792.3480  2632.8894   \n",
            "0            1  8589.4160  5468.2407  4263.4077  4064.9358  1997.8930   \n",
            "33          34  8347.9830  9852.2980  8178.9650  4467.5020  3388.4463   \n",
            "\n",
            "       R02593     T51496     H80240     T65938  ...      X67699     R70790  \\\n",
            "25  3584.2393  3484.4850  1385.9625  3634.3838  ...   99.955956  146.80250   \n",
            "39  7676.7144  4644.3887  2518.6975  5460.9360  ...  134.852390  129.21375   \n",
            "9   5449.2070  4623.2124  3277.4038  4488.0600  ...  401.770230  141.37250   \n",
            "0   5282.3250  2169.7200  2773.4211  7526.3860  ...   99.110720   67.56125   \n",
            "33  5632.5605  3754.5150  4869.5560  5019.0537  ...  159.278560  149.71124   \n",
            "\n",
            "       L11706     T90549     D17390      M33210     H18490     H40891  \\\n",
            "25  260.70874   80.30500  120.27625   52.714287   40.53125  113.16000   \n",
            "39  440.22626  102.51000  140.32500  173.289290  110.22500  155.92375   \n",
            "9   215.88750   71.03750   93.52125  136.040480   43.23000   67.15000   \n",
            "0   259.91250  138.89874   88.23250   39.667860   67.82875   75.67750   \n",
            "33  363.45750  184.26000  132.87750  379.829770   50.03500  127.05000   \n",
            "\n",
            "      R77780    T49647  \n",
            "25  17.11500  19.75000  \n",
            "39  40.18125  37.45125  \n",
            "9   65.61000  44.04250  \n",
            "0   83.52250  28.70125  \n",
            "33  45.84000  25.99500  \n",
            "\n",
            "[5 rows x 2001 columns]\n",
            "(13, 2001)\n"
          ]
        }
      ]
    },
    {
      "cell_type": "code",
      "source": [
        "X_train = X_train.to_numpy()\n",
        "X_test = X_test.to_numpy()"
      ],
      "metadata": {
        "id": "q-YysNZElbiH"
      },
      "execution_count": null,
      "outputs": []
    },
    {
      "cell_type": "code",
      "source": [
        "print(X_train)"
      ],
      "metadata": {
        "colab": {
          "base_uri": "https://localhost:8080/"
        },
        "id": "B4JPfgF0m4s7",
        "outputId": "99b192c1-a6b0-445b-dc77-f88fb9fca7cf"
      },
      "execution_count": null,
      "outputs": [
        {
          "output_type": "stream",
          "name": "stdout",
          "text": [
            "[[6.0000000e+01 6.7306250e+03 3.4721250e+03 ... 1.3352126e+02\n",
            "  9.3098750e+01 7.4325000e+00]\n",
            " [4.2000000e+01 6.1942450e+03 5.2020000e+03 ... 1.1340875e+02\n",
            "  7.6417500e+01 4.3768750e+01]\n",
            " [7.0000000e+00 7.1265986e+03 3.7790680e+03 ... 5.2961250e+01\n",
            "  3.7236250e+01 2.4445000e+01]\n",
            " ...\n",
            " [2.0000000e+00 9.1642540e+03 6.7195293e+03 ... 1.8656750e+02\n",
            "  4.4472500e+01 1.6773750e+01]\n",
            " [1.2000000e+01 1.4173054e+04 8.4118610e+03 ... 2.0543875e+02\n",
            "  5.8243750e+01 4.4057500e+01]\n",
            " [9.0000000e+00 9.3306790e+03 7.0172295e+03 ... 1.2244125e+02\n",
            "  4.0391250e+01 2.6847500e+01]]\n"
          ]
        }
      ]
    },
    {
      "cell_type": "code",
      "source": [
        "trainX = X_train[:,1:].reshape(X_train.shape[0],1,40, 50).astype('float32')\n",
        "X_train = trainX/255.0\n",
        "\n",
        "testX = X_test[:,1:].reshape(X_test.shape[0],1, 40, 50).astype('float32')\n",
        "X_test = testX/255.0"
      ],
      "metadata": {
        "collapsed": true,
        "jupyter": {
          "outputs_hidden": true
        },
        "id": "fepRy7p_7Jpv"
      },
      "execution_count": null,
      "outputs": []
    },
    {
      "cell_type": "code",
      "source": [
        "from sklearn import preprocessing\n",
        "lb = preprocessing.LabelBinarizer()\n",
        "y_train = lb.fit_transform(y_train)\n",
        "y_test = lb.fit_transform(y_test)"
      ],
      "metadata": {
        "_cell_guid": "04bd1d50-0dee-409d-938e-678bcfb5a944",
        "_uuid": "ba10ccfb03cf8b78ad5b0672cb1cba91d3afb8f1",
        "scrolled": true,
        "id": "vZzIJgkg7Jpv"
      },
      "execution_count": null,
      "outputs": []
    },
    {
      "cell_type": "code",
      "source": [
        "import keras\n",
        "from keras.models import Sequential\n",
        "from keras.layers import Conv2D,MaxPooling2D,Dense,Flatten,Dropout\n",
        "from keras.optimizers import Adam\n",
        "from keras.callbacks import TensorBoard\n",
        "num_classes = 10\n",
        "epochs = 20\n",
        "cnn_model = Sequential([\n",
        "    Conv2D(filters=32,kernel_size=3,activation='relu', input_shape=(1, 40, 50),data_format='channels_first'),\n",
        "    MaxPooling2D(pool_size=2) ,\n",
        "    Dropout(0.2),\n",
        "    Flatten(),\n",
        "    Dense(32,activation='relu'),\n",
        "    Dense(10,activation = 'softmax')\n",
        "])"
      ],
      "metadata": {
        "id": "iDTfai_Zy3hP"
      },
      "execution_count": null,
      "outputs": []
    },
    {
      "cell_type": "code",
      "source": [
        "cnn_model.compile(loss ='sparse_categorical_crossentropy', optimizer=Adam(lr=0.001),metrics =['accuracy'])"
      ],
      "metadata": {
        "colab": {
          "base_uri": "https://localhost:8080/"
        },
        "id": "jxLUgRj3aXTt",
        "outputId": "e29fda6a-f5ce-4be6-be14-192a91728498"
      },
      "execution_count": null,
      "outputs": [
        {
          "output_type": "stream",
          "name": "stderr",
          "text": [
            "/usr/local/lib/python3.8/dist-packages/keras/optimizers/optimizer_v2/adam.py:110: UserWarning: The `lr` argument is deprecated, use `learning_rate` instead.\n",
            "  super(Adam, self).__init__(name, **kwargs)\n"
          ]
        }
      ]
    },
    {
      "cell_type": "code",
      "source": [
        "history = cnn_model.fit(\n",
        "    X_train,\n",
        "    y_train,\n",
        "    batch_size=4096,\n",
        "    epochs=75,\n",
        "    verbose=1,\n",
        "    validation_data=(X_test,y_test),\n",
        ")"
      ],
      "metadata": {
        "colab": {
          "base_uri": "https://localhost:8080/"
        },
        "id": "DaUwUBiwae_u",
        "outputId": "de1747a4-dc1d-4752-95e4-ab4e4b948e00"
      },
      "execution_count": null,
      "outputs": [
        {
          "output_type": "stream",
          "name": "stdout",
          "text": [
            "Epoch 1/75\n",
            "1/1 [==============================] - 9s 9s/step - loss: 4.1062 - accuracy: 0.0000e+00 - val_loss: 0.8458 - val_accuracy: 0.6923\n",
            "Epoch 2/75\n",
            "1/1 [==============================] - 0s 29ms/step - loss: 0.9905 - accuracy: 0.6327 - val_loss: 2.1203 - val_accuracy: 0.3077\n",
            "Epoch 3/75\n",
            "1/1 [==============================] - 0s 30ms/step - loss: 1.5802 - accuracy: 0.3673 - val_loss: 0.4551 - val_accuracy: 0.6923\n",
            "Epoch 4/75\n",
            "1/1 [==============================] - 0s 29ms/step - loss: 0.5253 - accuracy: 0.6531 - val_loss: 0.6912 - val_accuracy: 0.6923\n",
            "Epoch 5/75\n",
            "1/1 [==============================] - 0s 25ms/step - loss: 0.8215 - accuracy: 0.6327 - val_loss: 0.4685 - val_accuracy: 0.6923\n",
            "Epoch 6/75\n",
            "1/1 [==============================] - 0s 30ms/step - loss: 0.5808 - accuracy: 0.6939 - val_loss: 0.4357 - val_accuracy: 0.9231\n",
            "Epoch 7/75\n",
            "1/1 [==============================] - 0s 30ms/step - loss: 0.3571 - accuracy: 0.8776 - val_loss: 0.9122 - val_accuracy: 0.6923\n",
            "Epoch 8/75\n",
            "1/1 [==============================] - 0s 26ms/step - loss: 0.4644 - accuracy: 0.8163 - val_loss: 0.9248 - val_accuracy: 0.7692\n",
            "Epoch 9/75\n",
            "1/1 [==============================] - 0s 28ms/step - loss: 0.4856 - accuracy: 0.7755 - val_loss: 0.5480 - val_accuracy: 0.8462\n",
            "Epoch 10/75\n",
            "1/1 [==============================] - 0s 26ms/step - loss: 0.3252 - accuracy: 0.8980 - val_loss: 0.3255 - val_accuracy: 0.8462\n",
            "Epoch 11/75\n",
            "1/1 [==============================] - 0s 27ms/step - loss: 0.2725 - accuracy: 0.8980 - val_loss: 0.2611 - val_accuracy: 0.7692\n",
            "Epoch 12/75\n",
            "1/1 [==============================] - 0s 27ms/step - loss: 0.3192 - accuracy: 0.8776 - val_loss: 0.2637 - val_accuracy: 0.8462\n",
            "Epoch 13/75\n",
            "1/1 [==============================] - 0s 27ms/step - loss: 0.3630 - accuracy: 0.8571 - val_loss: 0.2526 - val_accuracy: 0.8462\n",
            "Epoch 14/75\n",
            "1/1 [==============================] - 0s 28ms/step - loss: 0.3417 - accuracy: 0.8571 - val_loss: 0.2496 - val_accuracy: 0.8462\n",
            "Epoch 15/75\n",
            "1/1 [==============================] - 0s 26ms/step - loss: 0.3016 - accuracy: 0.8776 - val_loss: 0.2938 - val_accuracy: 0.8462\n",
            "Epoch 16/75\n",
            "1/1 [==============================] - 0s 26ms/step - loss: 0.2646 - accuracy: 0.8776 - val_loss: 0.3806 - val_accuracy: 0.8462\n",
            "Epoch 17/75\n",
            "1/1 [==============================] - 0s 26ms/step - loss: 0.2504 - accuracy: 0.8980 - val_loss: 0.4879 - val_accuracy: 0.9231\n",
            "Epoch 18/75\n",
            "1/1 [==============================] - 0s 32ms/step - loss: 0.2294 - accuracy: 0.9184 - val_loss: 0.5810 - val_accuracy: 0.9231\n",
            "Epoch 19/75\n",
            "1/1 [==============================] - 0s 25ms/step - loss: 0.2483 - accuracy: 0.9592 - val_loss: 0.6134 - val_accuracy: 0.9231\n",
            "Epoch 20/75\n",
            "1/1 [==============================] - 0s 25ms/step - loss: 0.2552 - accuracy: 0.9592 - val_loss: 0.5818 - val_accuracy: 0.9231\n",
            "Epoch 21/75\n",
            "1/1 [==============================] - 0s 27ms/step - loss: 0.2655 - accuracy: 0.9388 - val_loss: 0.4964 - val_accuracy: 0.9231\n",
            "Epoch 22/75\n",
            "1/1 [==============================] - 0s 26ms/step - loss: 0.2293 - accuracy: 0.9184 - val_loss: 0.4059 - val_accuracy: 0.9231\n",
            "Epoch 23/75\n",
            "1/1 [==============================] - 0s 26ms/step - loss: 0.2000 - accuracy: 0.9184 - val_loss: 0.3288 - val_accuracy: 0.9231\n",
            "Epoch 24/75\n",
            "1/1 [==============================] - 0s 26ms/step - loss: 0.1799 - accuracy: 0.9184 - val_loss: 0.2687 - val_accuracy: 0.8462\n",
            "Epoch 25/75\n",
            "1/1 [==============================] - 0s 30ms/step - loss: 0.1879 - accuracy: 0.8980 - val_loss: 0.2323 - val_accuracy: 0.8462\n",
            "Epoch 26/75\n",
            "1/1 [==============================] - 0s 26ms/step - loss: 0.1879 - accuracy: 0.8980 - val_loss: 0.2168 - val_accuracy: 0.8462\n",
            "Epoch 27/75\n",
            "1/1 [==============================] - 0s 26ms/step - loss: 0.1907 - accuracy: 0.9184 - val_loss: 0.2122 - val_accuracy: 0.8462\n",
            "Epoch 28/75\n",
            "1/1 [==============================] - 0s 27ms/step - loss: 0.1781 - accuracy: 0.8980 - val_loss: 0.2163 - val_accuracy: 0.8462\n",
            "Epoch 29/75\n",
            "1/1 [==============================] - 0s 27ms/step - loss: 0.1672 - accuracy: 0.9184 - val_loss: 0.2327 - val_accuracy: 0.8462\n",
            "Epoch 30/75\n",
            "1/1 [==============================] - 0s 26ms/step - loss: 0.1409 - accuracy: 0.9184 - val_loss: 0.2591 - val_accuracy: 0.9231\n",
            "Epoch 31/75\n",
            "1/1 [==============================] - 0s 29ms/step - loss: 0.1405 - accuracy: 0.9184 - val_loss: 0.2903 - val_accuracy: 0.9231\n",
            "Epoch 32/75\n",
            "1/1 [==============================] - 0s 25ms/step - loss: 0.1227 - accuracy: 0.9388 - val_loss: 0.3204 - val_accuracy: 0.9231\n",
            "Epoch 33/75\n",
            "1/1 [==============================] - 0s 25ms/step - loss: 0.1339 - accuracy: 0.9592 - val_loss: 0.3369 - val_accuracy: 0.9231\n",
            "Epoch 34/75\n",
            "1/1 [==============================] - 0s 26ms/step - loss: 0.1271 - accuracy: 0.9592 - val_loss: 0.3346 - val_accuracy: 0.9231\n",
            "Epoch 35/75\n",
            "1/1 [==============================] - 0s 30ms/step - loss: 0.1300 - accuracy: 0.9592 - val_loss: 0.3156 - val_accuracy: 0.9231\n",
            "Epoch 36/75\n",
            "1/1 [==============================] - 0s 28ms/step - loss: 0.1210 - accuracy: 0.9592 - val_loss: 0.2848 - val_accuracy: 0.9231\n",
            "Epoch 37/75\n",
            "1/1 [==============================] - 0s 28ms/step - loss: 0.1141 - accuracy: 0.9592 - val_loss: 0.2489 - val_accuracy: 0.9231\n",
            "Epoch 38/75\n",
            "1/1 [==============================] - 0s 26ms/step - loss: 0.1046 - accuracy: 0.9592 - val_loss: 0.2189 - val_accuracy: 0.9231\n",
            "Epoch 39/75\n",
            "1/1 [==============================] - 0s 27ms/step - loss: 0.1174 - accuracy: 0.9592 - val_loss: 0.2015 - val_accuracy: 0.9231\n",
            "Epoch 40/75\n",
            "1/1 [==============================] - 0s 26ms/step - loss: 0.0951 - accuracy: 0.9796 - val_loss: 0.1941 - val_accuracy: 0.9231\n",
            "Epoch 41/75\n",
            "1/1 [==============================] - 0s 25ms/step - loss: 0.0905 - accuracy: 1.0000 - val_loss: 0.1954 - val_accuracy: 0.9231\n",
            "Epoch 42/75\n",
            "1/1 [==============================] - 0s 27ms/step - loss: 0.0929 - accuracy: 0.9592 - val_loss: 0.2068 - val_accuracy: 0.9231\n",
            "Epoch 43/75\n",
            "1/1 [==============================] - 0s 26ms/step - loss: 0.0941 - accuracy: 0.9796 - val_loss: 0.2286 - val_accuracy: 0.9231\n",
            "Epoch 44/75\n",
            "1/1 [==============================] - 0s 26ms/step - loss: 0.0800 - accuracy: 0.9796 - val_loss: 0.2523 - val_accuracy: 0.9231\n",
            "Epoch 45/75\n",
            "1/1 [==============================] - 0s 28ms/step - loss: 0.0824 - accuracy: 0.9592 - val_loss: 0.2729 - val_accuracy: 0.9231\n",
            "Epoch 46/75\n",
            "1/1 [==============================] - 0s 30ms/step - loss: 0.0720 - accuracy: 0.9796 - val_loss: 0.2841 - val_accuracy: 0.9231\n",
            "Epoch 47/75\n",
            "1/1 [==============================] - 0s 26ms/step - loss: 0.0763 - accuracy: 0.9796 - val_loss: 0.2878 - val_accuracy: 0.9231\n",
            "Epoch 48/75\n",
            "1/1 [==============================] - 0s 27ms/step - loss: 0.0810 - accuracy: 0.9592 - val_loss: 0.2848 - val_accuracy: 0.9231\n",
            "Epoch 49/75\n",
            "1/1 [==============================] - 0s 26ms/step - loss: 0.0696 - accuracy: 0.9796 - val_loss: 0.2756 - val_accuracy: 0.9231\n",
            "Epoch 50/75\n",
            "1/1 [==============================] - 0s 26ms/step - loss: 0.0624 - accuracy: 0.9796 - val_loss: 0.2602 - val_accuracy: 0.9231\n",
            "Epoch 51/75\n",
            "1/1 [==============================] - 0s 26ms/step - loss: 0.0638 - accuracy: 0.9796 - val_loss: 0.2450 - val_accuracy: 0.9231\n",
            "Epoch 52/75\n",
            "1/1 [==============================] - 0s 31ms/step - loss: 0.0524 - accuracy: 1.0000 - val_loss: 0.2305 - val_accuracy: 0.9231\n",
            "Epoch 53/75\n",
            "1/1 [==============================] - 0s 27ms/step - loss: 0.0570 - accuracy: 1.0000 - val_loss: 0.2213 - val_accuracy: 0.9231\n",
            "Epoch 54/75\n",
            "1/1 [==============================] - 0s 27ms/step - loss: 0.0492 - accuracy: 1.0000 - val_loss: 0.2176 - val_accuracy: 0.9231\n",
            "Epoch 55/75\n",
            "1/1 [==============================] - 0s 26ms/step - loss: 0.0589 - accuracy: 1.0000 - val_loss: 0.2173 - val_accuracy: 0.9231\n",
            "Epoch 56/75\n",
            "1/1 [==============================] - 0s 31ms/step - loss: 0.0530 - accuracy: 1.0000 - val_loss: 0.2218 - val_accuracy: 0.9231\n",
            "Epoch 57/75\n",
            "1/1 [==============================] - 0s 28ms/step - loss: 0.0595 - accuracy: 1.0000 - val_loss: 0.2360 - val_accuracy: 0.9231\n",
            "Epoch 58/75\n",
            "1/1 [==============================] - 0s 26ms/step - loss: 0.0507 - accuracy: 1.0000 - val_loss: 0.2537 - val_accuracy: 0.9231\n",
            "Epoch 59/75\n",
            "1/1 [==============================] - 0s 26ms/step - loss: 0.0464 - accuracy: 1.0000 - val_loss: 0.2756 - val_accuracy: 0.9231\n",
            "Epoch 60/75\n",
            "1/1 [==============================] - 0s 31ms/step - loss: 0.0483 - accuracy: 1.0000 - val_loss: 0.2911 - val_accuracy: 0.9231\n",
            "Epoch 61/75\n",
            "1/1 [==============================] - 0s 26ms/step - loss: 0.0491 - accuracy: 1.0000 - val_loss: 0.2984 - val_accuracy: 0.9231\n",
            "Epoch 62/75\n",
            "1/1 [==============================] - 0s 27ms/step - loss: 0.0460 - accuracy: 1.0000 - val_loss: 0.2960 - val_accuracy: 0.9231\n",
            "Epoch 63/75\n",
            "1/1 [==============================] - 0s 26ms/step - loss: 0.0377 - accuracy: 1.0000 - val_loss: 0.2889 - val_accuracy: 0.9231\n",
            "Epoch 64/75\n",
            "1/1 [==============================] - 0s 27ms/step - loss: 0.0370 - accuracy: 1.0000 - val_loss: 0.2772 - val_accuracy: 0.9231\n",
            "Epoch 65/75\n",
            "1/1 [==============================] - 0s 28ms/step - loss: 0.0347 - accuracy: 1.0000 - val_loss: 0.2645 - val_accuracy: 0.9231\n",
            "Epoch 66/75\n",
            "1/1 [==============================] - 0s 28ms/step - loss: 0.0363 - accuracy: 1.0000 - val_loss: 0.2541 - val_accuracy: 0.9231\n",
            "Epoch 67/75\n",
            "1/1 [==============================] - 0s 29ms/step - loss: 0.0369 - accuracy: 1.0000 - val_loss: 0.2441 - val_accuracy: 0.9231\n",
            "Epoch 68/75\n",
            "1/1 [==============================] - 0s 26ms/step - loss: 0.0363 - accuracy: 1.0000 - val_loss: 0.2384 - val_accuracy: 0.9231\n",
            "Epoch 69/75\n",
            "1/1 [==============================] - 0s 26ms/step - loss: 0.0356 - accuracy: 1.0000 - val_loss: 0.2369 - val_accuracy: 0.9231\n",
            "Epoch 70/75\n",
            "1/1 [==============================] - 0s 27ms/step - loss: 0.0330 - accuracy: 1.0000 - val_loss: 0.2435 - val_accuracy: 0.9231\n",
            "Epoch 71/75\n",
            "1/1 [==============================] - 0s 26ms/step - loss: 0.0280 - accuracy: 1.0000 - val_loss: 0.2545 - val_accuracy: 0.9231\n",
            "Epoch 72/75\n",
            "1/1 [==============================] - 0s 26ms/step - loss: 0.0324 - accuracy: 1.0000 - val_loss: 0.2678 - val_accuracy: 0.9231\n",
            "Epoch 73/75\n",
            "1/1 [==============================] - 0s 30ms/step - loss: 0.0326 - accuracy: 1.0000 - val_loss: 0.2811 - val_accuracy: 0.9231\n",
            "Epoch 74/75\n",
            "1/1 [==============================] - 0s 32ms/step - loss: 0.0291 - accuracy: 1.0000 - val_loss: 0.2956 - val_accuracy: 0.9231\n",
            "Epoch 75/75\n",
            "1/1 [==============================] - 0s 26ms/step - loss: 0.0291 - accuracy: 1.0000 - val_loss: 0.3055 - val_accuracy: 0.9231\n"
          ]
        }
      ]
    },
    {
      "cell_type": "code",
      "source": [
        "import matplotlib.pyplot as plt\n",
        "plt.figure(figsize=(10, 10))\n",
        "\n",
        "plt.subplot(2, 2, 1)\n",
        "plt.plot(history.history['loss'], label='Loss')\n",
        "plt.plot(history.history['val_loss'], label='Validation Loss')\n",
        "plt.legend()\n",
        "plt.title('Training - Loss Function')\n",
        "\n",
        "plt.subplot(2, 2, 2)\n",
        "plt.plot(history.history['accuracy'], label='Accuracy')\n",
        "plt.plot(history.history['val_accuracy'], label='Validation Accuracy')\n",
        "plt.legend()\n",
        "plt.title('Train - Accuracy')"
      ],
      "metadata": {
        "colab": {
          "base_uri": "https://localhost:8080/",
          "height": 328
        },
        "id": "Fy9DCuXDa1c2",
        "outputId": "04a48870-8e6b-43e8-be2c-05587b1f841e"
      },
      "execution_count": null,
      "outputs": [
        {
          "output_type": "execute_result",
          "data": {
            "text/plain": [
              "Text(0.5, 1.0, 'Train - Accuracy')"
            ]
          },
          "metadata": {},
          "execution_count": 15
        },
        {
          "output_type": "display_data",
          "data": {
            "text/plain": [
              "<Figure size 720x720 with 2 Axes>"
            ],
            "image/png": "[encoded data removed]"
          },
          "metadata": {
            "needs_background": "light"
          }
        }
      ]
    },
    {
      "cell_type": "markdown",
      "source": [
        "#Other lines of code."
      ],
      "metadata": {
        "id": "mWpWG093OQTu"
      }
    },
    {
      "cell_type": "code",
      "source": [
        "'''solutions = []\n",
        "\n",
        "for x in range(1, 2000 + 1):\n",
        "    for y in range(1, 2000 + 1):\n",
        "        if x * y == 2000:\n",
        "            solutions.append((x, y))\n",
        "\n",
        "print(solutions)'''"
      ],
      "metadata": {
        "colab": {
          "base_uri": "https://localhost:8080/"
        },
        "id": "rIMuW85RUUS1",
        "outputId": "46a5e572-59ff-472c-da74-7b355045a6a6"
      },
      "execution_count": null,
      "outputs": [
        {
          "output_type": "stream",
          "name": "stdout",
          "text": [
            "[(1, 2000), (2, 1000), (4, 500), (5, 400), (8, 250), (10, 200), (16, 125), (20, 100), (25, 80), (40, 50), (50, 40), (80, 25), (100, 20), (125, 16), (200, 10), (250, 8), (400, 5), (500, 4), (1000, 2), (2000, 1)]\n"
          ]
        }
      ]
    }
  ]
}